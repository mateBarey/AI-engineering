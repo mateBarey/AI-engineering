{
 "cells": [
  {
   "cell_type": "code",
   "execution_count": 99,
   "metadata": {},
   "outputs": [],
   "source": [
    "from binance.client import Client\n",
    "import talib as ta\n",
    "import matplotlib.pyplot as plt\n",
    "import numpy as np\n",
    "from datetime import datetime\n",
    "import os"
   ]
  },
  {
   "cell_type": "code",
   "execution_count": 100,
   "metadata": {},
   "outputs": [],
   "source": [
    "curr=os.getcwd()\n",
    "os.chdir('/home/george/')"
   ]
  },
  {
   "cell_type": "code",
   "execution_count": 101,
   "metadata": {},
   "outputs": [],
   "source": [
    "curr=os.getcwd()\n",
    "os.chdir('/home/george/')"
   ]
  },
  {
   "cell_type": "code",
   "execution_count": 102,
   "metadata": {},
   "outputs": [],
   "source": [
    "file = 'mlb.txt'\n",
    "lines = [line.rstrip('\\n') for line in open(file)]\n",
    "key = lines[0]\n",
    "secret = lines[1]\n",
    "client = Client(key, secret)"
   ]
  },
  {
   "cell_type": "code",
   "execution_count": 103,
   "metadata": {},
   "outputs": [],
   "source": [
    "pair = \"BTCUSDT\"\n",
    "trading_pair = pair\n",
    "interval = '4h'\n",
    "klines = client.get_historical_klines(\"BTCUSDT\", client.KLINE_INTERVAL_4HOUR, \"1 Nov, 2017\", \"22 Jan, 2020\")"
   ]
  },
  {
   "cell_type": "code",
   "execution_count": 104,
   "metadata": {},
   "outputs": [],
   "source": [
    "open_time = [int(entry[0]) for entry in klines]\n",
    "new_time = [(time / 1000)/1000 for time in open_time]\n",
    "time = new_time\n",
    "crosses = []\n",
    "ema_above = False\n",
    "slopes = []\n",
    "\n",
    "close = [float(entry[4]) for entry in klines]\n",
    "close_array = np.asarray(close)\n",
    "#ema_8, ema_13, ema_21, ema_55 = ta.EMA(close_array, timeperiod=8, timeperiod=13, timeperiod=21,timeperiod=55)\n",
    "ema_8 = ta.EMA(close_array, timeperiod=8)\n",
    "ema_13 = ta.EMA(close_array, timeperiod=13)\n",
    "ema_21 = ta.EMA(close_array, timeperiod=21)\n",
    "ema_55 = ta.EMA(close_array, timeperiod=55)\n",
    "\n",
    "indicator_result = [ema_8, ema_13, ema_21, ema_55]"
   ]
  },
  {
   "cell_type": "code",
   "execution_count": 105,
   "metadata": {},
   "outputs": [],
   "source": [
    "for i,el in enumerate(indicator_result[0]):\n",
    "  if np.isnan(indicator_result[0][i]) or np.isnan(indicator_result[1][i]) or np.isnan(indicator_result[2][i]) or np.isnan(indicator_result[3][i]):\n",
    "    pass\n",
    "\n",
    "    #If both the MACD and signal are well defined, we compare the 2 and decide if a cross has occured\n",
    "  else:\n",
    "    if (indicator_result[0][i] > indicator_result[3][i] and indicator_result[1][i] > indicator_result[3][i] and indicator_result[2][i] > indicator_result[3][i]):\n",
    "        if ema_above == False:\n",
    "            ema_above = True\n",
    "            # this is where I think you should calculate the momentum slope\n",
    "\n",
    "            #want to try to rank acceleration or change in momentum  to see when we could probably choose to not buy and see if it changes anything\n",
    "            ema_8_slope = (indicator_result[0][i] - indicator_result[0][i-1])/(4)\n",
    "            ema_13_slope = (indicator_result[1][i] - indicator_result[1][i-1])/(4)\n",
    "            ema_21_slope = (indicator_result[2][i] - indicator_result[3][i-1])/(4)\n",
    "            ema_avg_slope = (ema_8_slope + ema_13_slope + ema_21_slope)/3\n",
    "            slopes.append([new_time[i],ema_avg_slope,'go','buy'])\n",
    "\n",
    "\n",
    "            #Appends the timestamp, MACD value at the timestamp, color of dot, buy signal, and the buy price\n",
    "            cross = [new_time[i],indicator_result[0][i] , 'go', 'BUY', klines[i][4]]\n",
    "            crosses.append(cross)\n",
    "\n",
    "    else:\n",
    "        if ema_above == True:\n",
    "            ema_above = False\n",
    "            #Appends the timestamp, MACD value at the timestamp, color of dot, sell signal, and the sell price\n",
    "            ema_8_slope = (indicator_result[0][i] - indicator_result[0][i-1])/(4)\n",
    "            ema_13_slope = (indicator_result[1][i] - indicator_result[1][i-1])/(4)\n",
    "            ema_21_slope = (indicator_result[2][i] - indicator_result[3][i-1])/(4)\n",
    "            ema_avg_slope = (ema_8_slope + ema_13_slope + ema_21_slope)/3\n",
    "            slopes.append([new_time[i], ema_avg_slope,'ro','sell'])\n",
    "\n",
    "            cross = [new_time[i], indicator_result[0][i], 'ro', 'SELL', klines[i][4]]\n",
    "            crosses.append(cross)"
   ]
  },
  {
   "cell_type": "code",
   "execution_count": 106,
   "metadata": {},
   "outputs": [
    {
     "data": {
      "text/plain": [
       "[[1510272.0, 7177.435291768758, 'go', 'BUY', '7213.41000000'],\n",
       " [1510300.8, 7095.610485144064, 'ro', 'SELL', '6831.20000000'],\n",
       " [1510790.4, 7035.784732996568, 'go', 'BUY', '7239.00000000'],\n",
       " [1513785.6, 17051.127466971062, 'ro', 'SELL', '16782.00000000'],\n",
       " [1515009.6, 14674.123276297563, 'go', 'BUY', '14919.51000000'],\n",
       " [1515484.8, 15158.610094291958, 'ro', 'SELL', '14726.00000000'],\n",
       " [1518609.6, 8861.522865320838, 'go', 'BUY', '9330.08000000'],\n",
       " [1519329.6, 10253.660991575087, 'ro', 'SELL', '9811.04000000'],\n",
       " [1519732.8, 10342.15854285198, 'go', 'BUY', '10568.01000000'],\n",
       " [1520395.2, 10857.386726637695, 'ro', 'SELL', '10510.00000000'],\n",
       " [1521676.8, 8907.951835951488, 'go', 'BUY', '9017.01000000'],\n",
       " [1521777.6, 8614.181013591138, 'ro', 'SELL', '8398.65000000'],\n",
       " [1521849.6, 8715.039569432613, 'go', 'BUY', '8880.02000000'],\n",
       " [1521950.4, 8658.39284494406, 'ro', 'SELL', '8466.53000000'],\n",
       " [1523534.4, 7186.800258282767, 'go', 'BUY', '7614.21000000'],\n",
       " [1525766.4, 9372.525020155808, 'ro', 'SELL', '9198.00000000'],\n",
       " [1528027.2, 7668.693004162476, 'go', 'BUY', '7730.01000000'],\n",
       " [1528128.0, 7577.120942131755, 'ro', 'SELL', '7494.99000000'],\n",
       " [1528286.4, 7598.947104528371, 'go', 'BUY', '7650.50000000'],\n",
       " [1528300.8, 7582.929970188733, 'ro', 'SELL', '7526.87000000'],\n",
       " [1528315.2, 7599.798865702348, 'go', 'BUY', '7658.84000000'],\n",
       " [1528574.4, 7597.436825980766, 'ro', 'SELL', '7491.73000000'],\n",
       " [1530475.2, 6335.513089150255, 'go', 'BUY', '6356.81000000'],\n",
       " [1531224.0, 6552.633980311654, 'ro', 'SELL', '6383.70000000'],\n",
       " [1531756.8, 6504.872196061779, 'go', 'BUY', '6676.48000000'],\n",
       " [1533067.2, 7916.871648959596, 'ro', 'SELL', '7730.93000000'],\n",
       " [1534896.0, 6490.431241701028, 'go', 'BUY', '6726.01000000'],\n",
       " [1535011.2, 6445.767641208476, 'ro', 'SELL', '6406.61000000'],\n",
       " [1535054.4, 6457.010563696169, 'go', 'BUY', '6525.01000000'],\n",
       " [1536177.6, 7043.00156584178, 'ro', 'SELL', '6700.00000000'],\n",
       " [1537516.8, 6549.22657617924, 'go', 'BUY', '6742.23000000'],\n",
       " [1537848.0, 6550.024336802706, 'ro', 'SELL', '6382.89000000'],\n",
       " [1538078.4, 6563.183886907478, 'go', 'BUY', '6689.13000000'],\n",
       " [1538510.4, 6569.493328581674, 'ro', 'SELL', '6525.79000000'],\n",
       " [1538712.0, 6576.527394757271, 'go', 'BUY', '6578.76000000'],\n",
       " [1539216.0, 6559.048401721306, 'ro', 'SELL', '6340.52000000'],\n",
       " [1539604.8, 6658.519267513423, 'go', 'BUY', '6907.01000000'],\n",
       " [1539964.8, 6608.492419609698, 'ro', 'SELL', '6555.38000000'],\n",
       " [1540123.2, 6611.438250722877, 'go', 'BUY', '6645.00000000'],\n",
       " [1540209.6, 6596.002741111987, 'ro', 'SELL', '6563.49000000'],\n",
       " [1541476.8, 6457.758199946733, 'go', 'BUY', '6464.34000000'],\n",
       " [1541764.8, 6477.225628564772, 'ro', 'SELL', '6429.89000000'],\n",
       " [1545177.6, 3564.638067673927, 'go', 'BUY', '3727.85000000'],\n",
       " [1545796.8, 3780.681997203809, 'ro', 'SELL', '3743.45000000'],\n",
       " [1546070.4, 3780.9906483202176, 'go', 'BUY', '3804.60000000'],\n",
       " [1546128.0, 3756.7065000178086, 'ro', 'SELL', '3711.55000000'],\n",
       " [1546171.2, 3759.9967482937013, 'go', 'BUY', '3768.00000000'],\n",
       " [1546243.2, 3755.300647065526, 'ro', 'SELL', '3725.42000000'],\n",
       " [1546444.8, 3778.7672104370795, 'go', 'BUY', '3824.98000000'],\n",
       " [1546617.6, 3761.8802477473128, 'ro', 'SELL', '3739.53000000'],\n",
       " [1546632.0, 3768.57574824791, 'go', 'BUY', '3792.01000000'],\n",
       " [1547121.6, 3852.152970340535, 'ro', 'SELL', '3726.39000000'],\n",
       " [1549656.0, 3523.10477472505, 'go', 'BUY', '3659.04000000'],\n",
       " [1551067.2, 3866.8186607771286, 'ro', 'SELL', '3780.52000000'],\n",
       " [1551902.4, 3843.4935242577412, 'go', 'BUY', '3861.84000000'],\n",
       " [1552536.0, 3868.092016231098, 'ro', 'SELL', '3859.58000000'],\n",
       " [1552579.2, 3870.5626358947416, 'go', 'BUY', '3873.47000000'],\n",
       " [1553529.6, 3971.039328969368, 'ro', 'SELL', '3922.22000000'],\n",
       " [1553688.0, 3988.5994390796222, 'go', 'BUY', '4021.49000000'],\n",
       " [1556352.0, 5306.61695564038, 'ro', 'SELL', '5277.51000000'],\n",
       " [1556438.4, 5314.129113437117, 'go', 'BUY', '5334.77000000'],\n",
       " [1556510.4, 5310.2910083072975, 'ro', 'SELL', '5301.46000000'],\n",
       " [1556697.6, 5322.530017907795, 'go', 'BUY', '5362.14000000'],\n",
       " [1559606.4, 8338.75768935607, 'ro', 'SELL', '7895.93000000'],\n",
       " [1560412.8, 8059.542692641495, 'go', 'BUY', '8086.43000000'],\n",
       " [1561953.6, 11290.605158599034, 'ro', 'SELL', '10983.70000000'],\n",
       " [1562198.4, 11402.169641680859, 'go', 'BUY', '11850.00000000'],\n",
       " [1562356.8, 11182.849725759994, 'ro', 'SELL', '10970.73000000'],\n",
       " [1562371.2, 11240.983120035551, 'go', 'BUY', '11444.45000000'],\n",
       " [1562875.2, 11701.255037490384, 'ro', 'SELL', '11342.89000000'],\n",
       " [1564689.6, 10094.644711827697, 'go', 'BUY', '10374.99000000'],\n",
       " [1565697.6, 11280.186207350343, 'ro', 'SELL', '10951.09000000'],\n",
       " [1567497.6, 10186.252026732556, 'go', 'BUY', '10424.50000000'],\n",
       " [1568088.0, 10313.711296582444, 'ro', 'SELL', '10271.14000000'],\n",
       " [1568433.6, 10291.365520092091, 'go', 'BUY', '10319.00000000'],\n",
       " [1568635.2, 10259.499245096988, 'ro', 'SELL', '10117.49000000'],\n",
       " [1570665.6, 8413.14259313014, 'go', 'BUY', '8543.51000000'],\n",
       " [1571040.0, 8317.856275581222, 'ro', 'SELL', '8280.32000000'],\n",
       " [1571731.2, 8205.562242802556, 'go', 'BUY', '8276.16000000'],\n",
       " [1571774.4, 8158.456638245921, 'ro', 'SELL', '8020.00000000'],\n",
       " [1572048.0, 8389.721911064551, 'go', 'BUY', '9554.05000000'],\n",
       " [1573200.0, 9177.203136243175, 'ro', 'SELL', '9026.27000000'],\n",
       " [1575705.6, 7469.351804665036, 'go', 'BUY', '7524.98000000'],\n",
       " [1575921.6, 7427.28118947486, 'ro', 'SELL', '7338.64000000'],\n",
       " [1576944.0, 7145.669784450118, 'go', 'BUY', '7145.82000000'],\n",
       " [1577347.2, 7214.979701828821, 'ro', 'SELL', '7188.02000000'],\n",
       " [1577376.0, 7237.026486291509, 'go', 'BUY', '7301.38000000'],\n",
       " [1577419.2, 7220.697756924537, 'ro', 'SELL', '7188.63000000'],\n",
       " [1577476.8, 7221.174515222651, 'go', 'BUY', '7254.74000000'],\n",
       " [1577793.6, 7253.513732805743, 'ro', 'SELL', '7195.96000000'],\n",
       " [1578110.4, 7284.580154140189, 'go', 'BUY', '7348.11000000']]"
      ]
     },
     "execution_count": 106,
     "metadata": {},
     "output_type": "execute_result"
    }
   ],
   "source": [
    "crosses"
   ]
  },
  {
   "cell_type": "code",
   "execution_count": 107,
   "metadata": {},
   "outputs": [
    {
     "data": {
      "text/plain": [
       "[[1510272.0, nan, 'go', 'buy'],\n",
       " [1510300.8, -8.447089285193593, 'ro', 'sell'],\n",
       " [1510790.4, 13.17973315039429, 'go', 'buy'],\n",
       " [1513785.6, 24.9442910694285, 'ro', 'sell'],\n",
       " [1515009.6, 18.210819461320778, 'go', 'buy'],\n",
       " [1515484.8, 0.4722859589094999, 'ro', 'sell'],\n",
       " [1518609.6, 23.95251306125965, 'go', 'buy'],\n",
       " [1519329.6, 1.2114487124119175, 'ro', 'sell'],\n",
       " [1519732.8, 13.526952560512504, 'go', 'buy'],\n",
       " [1520395.2, -3.122476762263583, 'ro', 'sell'],\n",
       " [1521676.8, 7.802720180687326, 'go', 'buy'],\n",
       " [1521777.6, -10.691889887147227, 'ro', 'sell'],\n",
       " [1521849.6, 7.82151722849964, 'go', 'buy'],\n",
       " [1521950.4, -7.50004103601168, 'ro', 'sell'],\n",
       " [1523534.4, 19.7931519653777, 'go', 'buy'],\n",
       " [1525766.4, -2.158719438415877, 'ro', 'sell'],\n",
       " [1528027.2, 3.8618034716686602, 'go', 'buy'],\n",
       " [1528128.0, -3.3688919976934812, 'ro', 'sell'],\n",
       " [1528286.4, 2.5611737376853703, 'go', 'buy'],\n",
       " [1528300.8, -2.2114837617328553, 'ro', 'sell'],\n",
       " [1528315.2, 3.000169258645277, 'go', 'buy'],\n",
       " [1528574.4, -3.583044491009256, 'ro', 'sell'],\n",
       " [1530475.2, 2.003581590113299, 'go', 'buy'],\n",
       " [1531224.0, -2.986217762808868, 'ro', 'sell'],\n",
       " [1531756.8, 8.38690694008786, 'go', 'buy'],\n",
       " [1533067.2, -1.349049388695903, 'ro', 'sell'],\n",
       " [1534896.0, 10.202298081350213, 'go', 'buy'],\n",
       " [1535011.2, -1.4538353702065099, 'ro', 'sell'],\n",
       " [1535054.4, 3.169626497390406, 'go', 'buy'],\n",
       " [1536177.6, -8.320634077986066, 'ro', 'sell'],\n",
       " [1537516.8, 10.211860332468254, 'go', 'buy'],\n",
       " [1537848.0, -3.950252254589865, 'ro', 'sell'],\n",
       " [1538078.4, 5.7769227224607675, 'go', 'buy'],\n",
       " [1538510.4, -1.2865163498869, 'ro', 'sell'],\n",
       " [1538712.0, 0.24289242345692705, 'go', 'buy'],\n",
       " [1539216.0, -9.309289056657766, 'ro', 'sell'],\n",
       " [1539604.8, 13.117237945029501, 'go', 'buy'],\n",
       " [1539964.8, 0.5216637074856862, 'ro', 'sell'],\n",
       " [1540123.2, 2.370603838054649, 'go', 'buy'],\n",
       " [1540209.6, -1.0586161566610979, 'ro', 'sell'],\n",
       " [1541476.8, 0.43049253260285997, 'go', 'buy'],\n",
       " [1541764.8, -0.7915529567080739, 'ro', 'sell'],\n",
       " [1545177.6, 8.921070865874299, 'go', 'buy'],\n",
       " [1545796.8, 2.7396002900900385, 'ro', 'sell'],\n",
       " [1546070.4, 1.4311558953516321, 'go', 'buy'],\n",
       " [1546128.0, -1.8533580757794728, 'ro', 'sell'],\n",
       " [1546171.2, 0.41457428103872945, 'go', 'buy'],\n",
       " [1546243.2, -1.2075748358304281, 'ro', 'sell'],\n",
       " [1546444.8, 2.4881255568172946, 'go', 'buy'],\n",
       " [1546617.6, -0.4984040607426247, 'ro', 'sell'],\n",
       " [1546632.0, 1.5164670666087356, 'go', 'buy'],\n",
       " [1547121.6, -3.043546634171927, 'ro', 'sell'],\n",
       " [1549656.0, 6.744324622431956, 'go', 'buy'],\n",
       " [1551067.2, 0.49591086410858526, 'ro', 'sell'],\n",
       " [1551902.4, 1.060257535048322, 'go', 'buy'],\n",
       " [1552536.0, 0.06404079962904537, 'ro', 'sell'],\n",
       " [1552579.2, 0.4832931381620635, 'go', 'buy'],\n",
       " [1553529.6, -1.6158744382683683, 'ro', 'sell'],\n",
       " [1553688.0, 1.7298602010991242, 'go', 'buy'],\n",
       " [1556352.0, 0.9518023183275849, 'ro', 'sell'],\n",
       " [1556438.4, 2.2110531757189165, 'go', 'buy'],\n",
       " [1556510.4, 0.4431825195006998, 'ro', 'sell'],\n",
       " [1556697.6, 2.1012957715988705, 'go', 'buy'],\n",
       " [1559606.4, -15.16414062684953, 'ro', 'sell'],\n",
       " [1560412.8, 2.010149419570098, 'go', 'buy'],\n",
       " [1561953.6, 6.77068735331189, 'ro', 'sell'],\n",
       " [1562198.4, 24.48591570156441, 'go', 'buy'],\n",
       " [1562356.8, -6.546401779519026, 'ro', 'sell'],\n",
       " [1562371.2, 11.788073993760918, 'go', 'buy'],\n",
       " [1562875.2, -1.9364987704496646, 'ro', 'sell'],\n",
       " [1564689.6, 14.874474530533613, 'go', 'buy'],\n",
       " [1565697.6, -9.405009902641723, 'ro', 'sell'],\n",
       " [1567497.6, 13.708781422601836, 'go', 'buy'],\n",
       " [1568088.0, 1.64037235437263, 'ro', 'sell'],\n",
       " [1568433.6, 1.4723065176926866, 'go', 'buy'],\n",
       " [1568635.2, -5.7564221964445705, 'ro', 'sell'],\n",
       " [1570665.6, 7.904148016474967, 'go', 'buy'],\n",
       " [1571040.0, -0.46540301797510136, 'ro', 'sell'],\n",
       " [1571731.2, 3.6399491169208886, 'go', 'buy'],\n",
       " [1571774.4, -5.602061078768429, 'ro', 'sell'],\n",
       " [1572048.0, 53.81994221689388, 'go', 'buy'],\n",
       " [1573200.0, -2.352290966440402, 'ro', 'sell'],\n",
       " [1575705.6, 3.012282920574686, 'go', 'buy'],\n",
       " [1575921.6, -2.739650318416731, 'ro', 'sell'],\n",
       " [1576944.0, 0.3821818546716713, 'go', 'buy'],\n",
       " [1577347.2, 1.0408541299674805, 'ro', 'sell'],\n",
       " [1577376.0, 5.010820565673005, 'go', 'buy'],\n",
       " [1577419.2, 0.20414815630313873, 'ro', 'sell'],\n",
       " [1577476.8, 2.397683501064345, 'go', 'buy'],\n",
       " [1577793.6, -1.300754701996463, 'ro', 'sell'],\n",
       " [1578110.4, 3.3001161057538106, 'go', 'buy']]"
      ]
     },
     "execution_count": 107,
     "metadata": {},
     "output_type": "execute_result"
    }
   ],
   "source": [
    "slopes"
   ]
  },
  {
   "cell_type": "code",
   "execution_count": 108,
   "metadata": {},
   "outputs": [],
   "source": [
    "import random \n",
    "import numpy as np \n",
    "import matplotlib.pyplot as plt \n",
    "from sklearn.cluster import KMeans \n",
    "from sklearn.datasets.samples_generator import make_blobs \n",
    "%matplotlib inline"
   ]
  },
  {
   "cell_type": "code",
   "execution_count": 109,
   "metadata": {},
   "outputs": [
    {
     "name": "stdout",
     "output_type": "stream",
     "text": [
      "91\n"
     ]
    }
   ],
   "source": [
    "print(len(slopes))"
   ]
  },
  {
   "cell_type": "code",
   "execution_count": 110,
   "metadata": {},
   "outputs": [],
   "source": [
    "slopes_n = slopes[4:]"
   ]
  },
  {
   "cell_type": "code",
   "execution_count": 111,
   "metadata": {},
   "outputs": [
    {
     "data": {
      "text/plain": [
       "[[1515009.6, 18.210819461320778, 'go', 'buy'],\n",
       " [1515484.8, 0.4722859589094999, 'ro', 'sell'],\n",
       " [1518609.6, 23.95251306125965, 'go', 'buy'],\n",
       " [1519329.6, 1.2114487124119175, 'ro', 'sell'],\n",
       " [1519732.8, 13.526952560512504, 'go', 'buy'],\n",
       " [1520395.2, -3.122476762263583, 'ro', 'sell'],\n",
       " [1521676.8, 7.802720180687326, 'go', 'buy'],\n",
       " [1521777.6, -10.691889887147227, 'ro', 'sell'],\n",
       " [1521849.6, 7.82151722849964, 'go', 'buy'],\n",
       " [1521950.4, -7.50004103601168, 'ro', 'sell'],\n",
       " [1523534.4, 19.7931519653777, 'go', 'buy'],\n",
       " [1525766.4, -2.158719438415877, 'ro', 'sell'],\n",
       " [1528027.2, 3.8618034716686602, 'go', 'buy'],\n",
       " [1528128.0, -3.3688919976934812, 'ro', 'sell'],\n",
       " [1528286.4, 2.5611737376853703, 'go', 'buy'],\n",
       " [1528300.8, -2.2114837617328553, 'ro', 'sell'],\n",
       " [1528315.2, 3.000169258645277, 'go', 'buy'],\n",
       " [1528574.4, -3.583044491009256, 'ro', 'sell'],\n",
       " [1530475.2, 2.003581590113299, 'go', 'buy'],\n",
       " [1531224.0, -2.986217762808868, 'ro', 'sell'],\n",
       " [1531756.8, 8.38690694008786, 'go', 'buy'],\n",
       " [1533067.2, -1.349049388695903, 'ro', 'sell'],\n",
       " [1534896.0, 10.202298081350213, 'go', 'buy'],\n",
       " [1535011.2, -1.4538353702065099, 'ro', 'sell'],\n",
       " [1535054.4, 3.169626497390406, 'go', 'buy'],\n",
       " [1536177.6, -8.320634077986066, 'ro', 'sell'],\n",
       " [1537516.8, 10.211860332468254, 'go', 'buy'],\n",
       " [1537848.0, -3.950252254589865, 'ro', 'sell'],\n",
       " [1538078.4, 5.7769227224607675, 'go', 'buy'],\n",
       " [1538510.4, -1.2865163498869, 'ro', 'sell'],\n",
       " [1538712.0, 0.24289242345692705, 'go', 'buy'],\n",
       " [1539216.0, -9.309289056657766, 'ro', 'sell'],\n",
       " [1539604.8, 13.117237945029501, 'go', 'buy'],\n",
       " [1539964.8, 0.5216637074856862, 'ro', 'sell'],\n",
       " [1540123.2, 2.370603838054649, 'go', 'buy'],\n",
       " [1540209.6, -1.0586161566610979, 'ro', 'sell'],\n",
       " [1541476.8, 0.43049253260285997, 'go', 'buy'],\n",
       " [1541764.8, -0.7915529567080739, 'ro', 'sell'],\n",
       " [1545177.6, 8.921070865874299, 'go', 'buy'],\n",
       " [1545796.8, 2.7396002900900385, 'ro', 'sell'],\n",
       " [1546070.4, 1.4311558953516321, 'go', 'buy'],\n",
       " [1546128.0, -1.8533580757794728, 'ro', 'sell'],\n",
       " [1546171.2, 0.41457428103872945, 'go', 'buy'],\n",
       " [1546243.2, -1.2075748358304281, 'ro', 'sell'],\n",
       " [1546444.8, 2.4881255568172946, 'go', 'buy'],\n",
       " [1546617.6, -0.4984040607426247, 'ro', 'sell'],\n",
       " [1546632.0, 1.5164670666087356, 'go', 'buy'],\n",
       " [1547121.6, -3.043546634171927, 'ro', 'sell'],\n",
       " [1549656.0, 6.744324622431956, 'go', 'buy'],\n",
       " [1551067.2, 0.49591086410858526, 'ro', 'sell'],\n",
       " [1551902.4, 1.060257535048322, 'go', 'buy'],\n",
       " [1552536.0, 0.06404079962904537, 'ro', 'sell'],\n",
       " [1552579.2, 0.4832931381620635, 'go', 'buy'],\n",
       " [1553529.6, -1.6158744382683683, 'ro', 'sell'],\n",
       " [1553688.0, 1.7298602010991242, 'go', 'buy'],\n",
       " [1556352.0, 0.9518023183275849, 'ro', 'sell'],\n",
       " [1556438.4, 2.2110531757189165, 'go', 'buy'],\n",
       " [1556510.4, 0.4431825195006998, 'ro', 'sell'],\n",
       " [1556697.6, 2.1012957715988705, 'go', 'buy'],\n",
       " [1559606.4, -15.16414062684953, 'ro', 'sell'],\n",
       " [1560412.8, 2.010149419570098, 'go', 'buy'],\n",
       " [1561953.6, 6.77068735331189, 'ro', 'sell'],\n",
       " [1562198.4, 24.48591570156441, 'go', 'buy'],\n",
       " [1562356.8, -6.546401779519026, 'ro', 'sell'],\n",
       " [1562371.2, 11.788073993760918, 'go', 'buy'],\n",
       " [1562875.2, -1.9364987704496646, 'ro', 'sell'],\n",
       " [1564689.6, 14.874474530533613, 'go', 'buy'],\n",
       " [1565697.6, -9.405009902641723, 'ro', 'sell'],\n",
       " [1567497.6, 13.708781422601836, 'go', 'buy'],\n",
       " [1568088.0, 1.64037235437263, 'ro', 'sell'],\n",
       " [1568433.6, 1.4723065176926866, 'go', 'buy'],\n",
       " [1568635.2, -5.7564221964445705, 'ro', 'sell'],\n",
       " [1570665.6, 7.904148016474967, 'go', 'buy'],\n",
       " [1571040.0, -0.46540301797510136, 'ro', 'sell'],\n",
       " [1571731.2, 3.6399491169208886, 'go', 'buy'],\n",
       " [1571774.4, -5.602061078768429, 'ro', 'sell'],\n",
       " [1572048.0, 53.81994221689388, 'go', 'buy'],\n",
       " [1573200.0, -2.352290966440402, 'ro', 'sell'],\n",
       " [1575705.6, 3.012282920574686, 'go', 'buy'],\n",
       " [1575921.6, -2.739650318416731, 'ro', 'sell'],\n",
       " [1576944.0, 0.3821818546716713, 'go', 'buy'],\n",
       " [1577347.2, 1.0408541299674805, 'ro', 'sell'],\n",
       " [1577376.0, 5.010820565673005, 'go', 'buy'],\n",
       " [1577419.2, 0.20414815630313873, 'ro', 'sell'],\n",
       " [1577476.8, 2.397683501064345, 'go', 'buy'],\n",
       " [1577793.6, -1.300754701996463, 'ro', 'sell'],\n",
       " [1578110.4, 3.3001161057538106, 'go', 'buy']]"
      ]
     },
     "execution_count": 111,
     "metadata": {},
     "output_type": "execute_result"
    }
   ],
   "source": [
    "slopes_n"
   ]
  },
  {
   "cell_type": "code",
   "execution_count": 112,
   "metadata": {},
   "outputs": [],
   "source": [
    "slopes_n2 = np.array(slopes_n)"
   ]
  },
  {
   "cell_type": "code",
   "execution_count": 113,
   "metadata": {},
   "outputs": [],
   "source": [
    "slopes_n2=slopes_n2[:,:2]"
   ]
  },
  {
   "cell_type": "code",
   "execution_count": 114,
   "metadata": {},
   "outputs": [
    {
     "data": {
      "text/plain": [
       "array([['1515009.6', '18.210819461320778'],\n",
       "       ['1515484.8', '0.4722859589094999'],\n",
       "       ['1518609.6', '23.95251306125965'],\n",
       "       ['1519329.6', '1.2114487124119175'],\n",
       "       ['1519732.8', '13.526952560512504'],\n",
       "       ['1520395.2', '-3.122476762263583'],\n",
       "       ['1521676.8', '7.802720180687326'],\n",
       "       ['1521777.6', '-10.691889887147227'],\n",
       "       ['1521849.6', '7.82151722849964'],\n",
       "       ['1521950.4', '-7.50004103601168'],\n",
       "       ['1523534.4', '19.7931519653777'],\n",
       "       ['1525766.4', '-2.158719438415877'],\n",
       "       ['1528027.2', '3.8618034716686602'],\n",
       "       ['1528128.0', '-3.3688919976934812'],\n",
       "       ['1528286.4', '2.5611737376853703'],\n",
       "       ['1528300.8', '-2.2114837617328553'],\n",
       "       ['1528315.2', '3.000169258645277'],\n",
       "       ['1528574.4', '-3.583044491009256'],\n",
       "       ['1530475.2', '2.003581590113299'],\n",
       "       ['1531224.0', '-2.986217762808868'],\n",
       "       ['1531756.8', '8.38690694008786'],\n",
       "       ['1533067.2', '-1.349049388695903'],\n",
       "       ['1534896.0', '10.202298081350213'],\n",
       "       ['1535011.2', '-1.4538353702065099'],\n",
       "       ['1535054.4', '3.169626497390406'],\n",
       "       ['1536177.6', '-8.320634077986066'],\n",
       "       ['1537516.8', '10.211860332468254'],\n",
       "       ['1537848.0', '-3.950252254589865'],\n",
       "       ['1538078.4', '5.7769227224607675'],\n",
       "       ['1538510.4', '-1.2865163498869'],\n",
       "       ['1538712.0', '0.24289242345692705'],\n",
       "       ['1539216.0', '-9.309289056657766'],\n",
       "       ['1539604.8', '13.117237945029501'],\n",
       "       ['1539964.8', '0.5216637074856862'],\n",
       "       ['1540123.2', '2.370603838054649'],\n",
       "       ['1540209.6', '-1.0586161566610979'],\n",
       "       ['1541476.8', '0.43049253260285997'],\n",
       "       ['1541764.8', '-0.7915529567080739'],\n",
       "       ['1545177.6', '8.921070865874299'],\n",
       "       ['1545796.8', '2.7396002900900385'],\n",
       "       ['1546070.4', '1.4311558953516321'],\n",
       "       ['1546128.0', '-1.8533580757794728'],\n",
       "       ['1546171.2', '0.41457428103872945'],\n",
       "       ['1546243.2', '-1.2075748358304281'],\n",
       "       ['1546444.8', '2.4881255568172946'],\n",
       "       ['1546617.6', '-0.4984040607426247'],\n",
       "       ['1546632.0', '1.5164670666087356'],\n",
       "       ['1547121.6', '-3.043546634171927'],\n",
       "       ['1549656.0', '6.744324622431956'],\n",
       "       ['1551067.2', '0.49591086410858526'],\n",
       "       ['1551902.4', '1.060257535048322'],\n",
       "       ['1552536.0', '0.06404079962904537'],\n",
       "       ['1552579.2', '0.4832931381620635'],\n",
       "       ['1553529.6', '-1.6158744382683683'],\n",
       "       ['1553688.0', '1.7298602010991242'],\n",
       "       ['1556352.0', '0.9518023183275849'],\n",
       "       ['1556438.4', '2.2110531757189165'],\n",
       "       ['1556510.4', '0.4431825195006998'],\n",
       "       ['1556697.6', '2.1012957715988705'],\n",
       "       ['1559606.4', '-15.16414062684953'],\n",
       "       ['1560412.8', '2.010149419570098'],\n",
       "       ['1561953.6', '6.77068735331189'],\n",
       "       ['1562198.4', '24.48591570156441'],\n",
       "       ['1562356.8', '-6.546401779519026'],\n",
       "       ['1562371.2', '11.788073993760918'],\n",
       "       ['1562875.2', '-1.9364987704496646'],\n",
       "       ['1564689.6', '14.874474530533613'],\n",
       "       ['1565697.6', '-9.405009902641723'],\n",
       "       ['1567497.6', '13.708781422601836'],\n",
       "       ['1568088.0', '1.64037235437263'],\n",
       "       ['1568433.6', '1.4723065176926866'],\n",
       "       ['1568635.2', '-5.7564221964445705'],\n",
       "       ['1570665.6', '7.904148016474967'],\n",
       "       ['1571040.0', '-0.46540301797510136'],\n",
       "       ['1571731.2', '3.6399491169208886'],\n",
       "       ['1571774.4', '-5.602061078768429'],\n",
       "       ['1572048.0', '53.81994221689388'],\n",
       "       ['1573200.0', '-2.352290966440402'],\n",
       "       ['1575705.6', '3.012282920574686'],\n",
       "       ['1575921.6', '-2.739650318416731'],\n",
       "       ['1576944.0', '0.3821818546716713'],\n",
       "       ['1577347.2', '1.0408541299674805'],\n",
       "       ['1577376.0', '5.010820565673005'],\n",
       "       ['1577419.2', '0.20414815630313873'],\n",
       "       ['1577476.8', '2.397683501064345'],\n",
       "       ['1577793.6', '-1.300754701996463'],\n",
       "       ['1578110.4', '3.3001161057538106']], dtype='<U32')"
      ]
     },
     "execution_count": 114,
     "metadata": {},
     "output_type": "execute_result"
    }
   ],
   "source": [
    "slopes_n2"
   ]
  },
  {
   "cell_type": "code",
   "execution_count": 115,
   "metadata": {},
   "outputs": [],
   "source": [
    "k_means = KMeans(init = \"k-means++\", n_clusters = 4, n_init = 12)"
   ]
  },
  {
   "cell_type": "code",
   "execution_count": 116,
   "metadata": {},
   "outputs": [
    {
     "data": {
      "text/plain": [
       "KMeans(algorithm='auto', copy_x=True, init='k-means++', max_iter=300,\n",
       "    n_clusters=4, n_init=12, n_jobs=1, precompute_distances='auto',\n",
       "    random_state=None, tol=0.0001, verbose=0)"
      ]
     },
     "execution_count": 116,
     "metadata": {},
     "output_type": "execute_result"
    }
   ],
   "source": [
    "k_means.fit(slopes_n2)"
   ]
  },
  {
   "cell_type": "code",
   "execution_count": 117,
   "metadata": {},
   "outputs": [
    {
     "data": {
      "text/plain": [
       "array([[1.54109760e+06, 1.09007270e+00],\n",
       "       [1.55723267e+06, 2.68165296e+00],\n",
       "       [1.52420023e+06, 3.66582281e+00],\n",
       "       [1.57314528e+06, 3.49559973e+00]])"
      ]
     },
     "execution_count": 117,
     "metadata": {},
     "output_type": "execute_result"
    }
   ],
   "source": [
    "k_means_labels = k_means.labels_\n",
    "k_means_labels\n",
    "\n",
    "k_means_cluster_centers = k_means.cluster_centers_\n",
    "k_means_cluster_centers"
   ]
  },
  {
   "cell_type": "code",
   "execution_count": 121,
   "metadata": {},
   "outputs": [
    {
     "data": {
      "image/png": "[encoded data removed]",
      "text/plain": [
       "<Figure size 432x288 with 1 Axes>"
      ]
     },
     "metadata": {},
     "output_type": "display_data"
    }
   ],
   "source": [
    "\n",
    "plt.scatter(slopes_n2[:,0],slopes_n2[:,1])\n",
    "plt.show()"
   ]
  },
  {
   "cell_type": "code",
   "execution_count": 120,
   "metadata": {},
   "outputs": [
    {
     "data": {
      "text/plain": [
       "array(['18.210819461320778', '0.4722859589094999', '23.95251306125965',\n",
       "       '1.2114487124119175', '13.526952560512504', '-3.122476762263583',\n",
       "       '7.802720180687326', '-10.691889887147227', '7.82151722849964',\n",
       "       '-7.50004103601168', '19.7931519653777', '-2.158719438415877',\n",
       "       '3.8618034716686602', '-3.3688919976934812', '2.5611737376853703',\n",
       "       '-2.2114837617328553', '3.000169258645277', '-3.583044491009256',\n",
       "       '2.003581590113299', '-2.986217762808868', '8.38690694008786',\n",
       "       '-1.349049388695903', '10.202298081350213', '-1.4538353702065099',\n",
       "       '3.169626497390406', '-8.320634077986066', '10.211860332468254',\n",
       "       '-3.950252254589865', '5.7769227224607675', '-1.2865163498869',\n",
       "       '0.24289242345692705', '-9.309289056657766', '13.117237945029501',\n",
       "       '0.5216637074856862', '2.370603838054649', '-1.0586161566610979',\n",
       "       '0.43049253260285997', '-0.7915529567080739', '8.921070865874299',\n",
       "       '2.7396002900900385', '1.4311558953516321', '-1.8533580757794728',\n",
       "       '0.41457428103872945', '-1.2075748358304281', '2.4881255568172946',\n",
       "       '-0.4984040607426247', '1.5164670666087356', '-3.043546634171927',\n",
       "       '6.744324622431956', '0.49591086410858526', '1.060257535048322',\n",
       "       '0.06404079962904537', '0.4832931381620635', '-1.6158744382683683',\n",
       "       '1.7298602010991242', '0.9518023183275849', '2.2110531757189165',\n",
       "       '0.4431825195006998', '2.1012957715988705', '-15.16414062684953',\n",
       "       '2.010149419570098', '6.77068735331189', '24.48591570156441',\n",
       "       '-6.546401779519026', '11.788073993760918', '-1.9364987704496646',\n",
       "       '14.874474530533613', '-9.405009902641723', '13.708781422601836',\n",
       "       '1.64037235437263', '1.4723065176926866', '-5.7564221964445705',\n",
       "       '7.904148016474967', '-0.46540301797510136', '3.6399491169208886',\n",
       "       '-5.602061078768429', '53.81994221689388', '-2.352290966440402',\n",
       "       '3.012282920574686', '-2.739650318416731', '0.3821818546716713',\n",
       "       '1.0408541299674805', '5.010820565673005', '0.20414815630313873',\n",
       "       '2.397683501064345', '-1.300754701996463', '3.3001161057538106'],\n",
       "      dtype='<U32')"
      ]
     },
     "execution_count": 120,
     "metadata": {},
     "output_type": "execute_result"
    }
   ],
   "source": [
    "slopes_n2[:,1]"
   ]
  },
  {
   "cell_type": "code",
   "execution_count": 126,
   "metadata": {},
   "outputs": [
    {
     "data": {
      "text/plain": [
       "[[1515009.6, 18.210819461320778, 'go', 'buy'],\n",
       " [1515484.8, 0.4722859589094999, 'ro', 'sell'],\n",
       " [1518609.6, 23.95251306125965, 'go', 'buy'],\n",
       " [1519329.6, 1.2114487124119175, 'ro', 'sell'],\n",
       " [1519732.8, 13.526952560512504, 'go', 'buy'],\n",
       " [1520395.2, -3.122476762263583, 'ro', 'sell'],\n",
       " [1521676.8, 7.802720180687326, 'go', 'buy'],\n",
       " [1521777.6, -10.691889887147227, 'ro', 'sell'],\n",
       " [1521849.6, 7.82151722849964, 'go', 'buy'],\n",
       " [1521950.4, -7.50004103601168, 'ro', 'sell'],\n",
       " [1523534.4, 19.7931519653777, 'go', 'buy'],\n",
       " [1525766.4, -2.158719438415877, 'ro', 'sell'],\n",
       " [1528027.2, 3.8618034716686602, 'go', 'buy'],\n",
       " [1528128.0, -3.3688919976934812, 'ro', 'sell'],\n",
       " [1528286.4, 2.5611737376853703, 'go', 'buy'],\n",
       " [1528300.8, -2.2114837617328553, 'ro', 'sell'],\n",
       " [1528315.2, 3.000169258645277, 'go', 'buy'],\n",
       " [1528574.4, -3.583044491009256, 'ro', 'sell'],\n",
       " [1530475.2, 2.003581590113299, 'go', 'buy'],\n",
       " [1531224.0, -2.986217762808868, 'ro', 'sell'],\n",
       " [1531756.8, 8.38690694008786, 'go', 'buy'],\n",
       " [1533067.2, -1.349049388695903, 'ro', 'sell'],\n",
       " [1534896.0, 10.202298081350213, 'go', 'buy'],\n",
       " [1535011.2, -1.4538353702065099, 'ro', 'sell'],\n",
       " [1535054.4, 3.169626497390406, 'go', 'buy'],\n",
       " [1536177.6, -8.320634077986066, 'ro', 'sell'],\n",
       " [1537516.8, 10.211860332468254, 'go', 'buy'],\n",
       " [1537848.0, -3.950252254589865, 'ro', 'sell'],\n",
       " [1538078.4, 5.7769227224607675, 'go', 'buy'],\n",
       " [1538510.4, -1.2865163498869, 'ro', 'sell'],\n",
       " [1538712.0, 0.24289242345692705, 'go', 'buy'],\n",
       " [1539216.0, -9.309289056657766, 'ro', 'sell'],\n",
       " [1539604.8, 13.117237945029501, 'go', 'buy'],\n",
       " [1539964.8, 0.5216637074856862, 'ro', 'sell'],\n",
       " [1540123.2, 2.370603838054649, 'go', 'buy'],\n",
       " [1540209.6, -1.0586161566610979, 'ro', 'sell'],\n",
       " [1541476.8, 0.43049253260285997, 'go', 'buy'],\n",
       " [1541764.8, -0.7915529567080739, 'ro', 'sell'],\n",
       " [1545177.6, 8.921070865874299, 'go', 'buy'],\n",
       " [1545796.8, 2.7396002900900385, 'ro', 'sell'],\n",
       " [1546070.4, 1.4311558953516321, 'go', 'buy'],\n",
       " [1546128.0, -1.8533580757794728, 'ro', 'sell'],\n",
       " [1546171.2, 0.41457428103872945, 'go', 'buy'],\n",
       " [1546243.2, -1.2075748358304281, 'ro', 'sell'],\n",
       " [1546444.8, 2.4881255568172946, 'go', 'buy'],\n",
       " [1546617.6, -0.4984040607426247, 'ro', 'sell'],\n",
       " [1546632.0, 1.5164670666087356, 'go', 'buy'],\n",
       " [1547121.6, -3.043546634171927, 'ro', 'sell'],\n",
       " [1549656.0, 6.744324622431956, 'go', 'buy'],\n",
       " [1551067.2, 0.49591086410858526, 'ro', 'sell'],\n",
       " [1551902.4, 1.060257535048322, 'go', 'buy'],\n",
       " [1552536.0, 0.06404079962904537, 'ro', 'sell'],\n",
       " [1552579.2, 0.4832931381620635, 'go', 'buy'],\n",
       " [1553529.6, -1.6158744382683683, 'ro', 'sell'],\n",
       " [1553688.0, 1.7298602010991242, 'go', 'buy'],\n",
       " [1556352.0, 0.9518023183275849, 'ro', 'sell'],\n",
       " [1556438.4, 2.2110531757189165, 'go', 'buy'],\n",
       " [1556510.4, 0.4431825195006998, 'ro', 'sell'],\n",
       " [1556697.6, 2.1012957715988705, 'go', 'buy'],\n",
       " [1559606.4, -15.16414062684953, 'ro', 'sell'],\n",
       " [1560412.8, 2.010149419570098, 'go', 'buy'],\n",
       " [1561953.6, 6.77068735331189, 'ro', 'sell'],\n",
       " [1562198.4, 24.48591570156441, 'go', 'buy'],\n",
       " [1562356.8, -6.546401779519026, 'ro', 'sell'],\n",
       " [1562371.2, 11.788073993760918, 'go', 'buy'],\n",
       " [1562875.2, -1.9364987704496646, 'ro', 'sell'],\n",
       " [1564689.6, 14.874474530533613, 'go', 'buy'],\n",
       " [1565697.6, -9.405009902641723, 'ro', 'sell'],\n",
       " [1567497.6, 13.708781422601836, 'go', 'buy'],\n",
       " [1568088.0, 1.64037235437263, 'ro', 'sell'],\n",
       " [1568433.6, 1.4723065176926866, 'go', 'buy'],\n",
       " [1568635.2, -5.7564221964445705, 'ro', 'sell'],\n",
       " [1570665.6, 7.904148016474967, 'go', 'buy'],\n",
       " [1571040.0, -0.46540301797510136, 'ro', 'sell'],\n",
       " [1571731.2, 3.6399491169208886, 'go', 'buy'],\n",
       " [1571774.4, -5.602061078768429, 'ro', 'sell'],\n",
       " [1572048.0, 53.81994221689388, 'go', 'buy'],\n",
       " [1573200.0, -2.352290966440402, 'ro', 'sell'],\n",
       " [1575705.6, 3.012282920574686, 'go', 'buy'],\n",
       " [1575921.6, -2.739650318416731, 'ro', 'sell'],\n",
       " [1576944.0, 0.3821818546716713, 'go', 'buy'],\n",
       " [1577347.2, 1.0408541299674805, 'ro', 'sell'],\n",
       " [1577376.0, 5.010820565673005, 'go', 'buy'],\n",
       " [1577419.2, 0.20414815630313873, 'ro', 'sell'],\n",
       " [1577476.8, 2.397683501064345, 'go', 'buy'],\n",
       " [1577793.6, -1.300754701996463, 'ro', 'sell'],\n",
       " [1578110.4, 3.3001161057538106, 'go', 'buy']]"
      ]
     },
     "execution_count": 126,
     "metadata": {},
     "output_type": "execute_result"
    }
   ],
   "source": [
    "slopes_n"
   ]
  },
  {
   "cell_type": "code",
   "execution_count": 129,
   "metadata": {},
   "outputs": [],
   "source": [
    "slopes_n3 = slopes_n2[:,1:]"
   ]
  },
  {
   "cell_type": "code",
   "execution_count": 132,
   "metadata": {},
   "outputs": [],
   "source": [
    "slopes_n3.sort()"
   ]
  },
  {
   "cell_type": "code",
   "execution_count": null,
   "metadata": {},
   "outputs": [],
   "source": []
  }
 ],
 "metadata": {
  "kernelspec": {
   "display_name": "Python 3",
   "language": "python",
   "name": "python3"
  },
  "language_info": {
   "codemirror_mode": {
    "name": "ipython",
    "version": 3
   },
   "file_extension": ".py",
   "mimetype": "text/x-python",
   "name": "python",
   "nbconvert_exporter": "python",
   "pygments_lexer": "ipython3",
   "version": "3.6.5"
  }
 },
 "nbformat": 4,
 "nbformat_minor": 2
}
