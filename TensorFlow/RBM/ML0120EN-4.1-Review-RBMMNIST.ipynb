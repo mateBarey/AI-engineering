{
 "cells": [
  {
   "cell_type": "markdown",
   "metadata": {},
   "source": [
    "<a href=\"https://www.bigdatauniversity.com\"><img src=\"https://ibm.box.com/shared/static/qo20b88v1hbjztubt06609ovs85q8fau.png\" width=\"400px\" align=\"center\"></a>\n",
    "\n",
    "<h1 align=\"center\"><font size=\"5\">RESTRICTED BOLTZMANN MACHINES</font></h1>"
   ]
  },
  {
   "cell_type": "markdown",
   "metadata": {},
   "source": [
    "<h3>Introduction</h3>\n",
    "<b>Restricted Boltzmann Machine (RBM):</b>  RBMs are shallow neural nets that learn to reconstruct data by themselves in an unsupervised fashion.  \n",
    "\n",
    "\n",
    "<h4>Why are RBMs important?</h4>\n",
    "It can automatically extract <b>meaningful</b> features from a given input.\n",
    "\n",
    "\n",
    "<h4>How does it work?</h4>\n",
    "RBM is a 2 layer neural network. Simply, RBM takes the inputs and translates those into a set of binary values that represents them in the hidden layer. Then, these numbers can be translated back to reconstruct the inputs. Through several forward and backward passes, the RBM will be trained, and a trained RBM can reveal which features are the most important ones when detecting patterns.   \n",
    "\n",
    "\n",
    "<h4>What are the applications of RBM?</h4>\n",
    "RBM is useful for <a href='http://www.cs.utoronto.ca/~hinton/absps/netflixICML.pdf'>  Collaborative Filtering</a>, dimensionality reduction, classification, regression, feature learning, topic modeling and even <b>Deep Belief Networks</b>.\n",
    "\n",
    "\n",
    "\n",
    "<h4>Is RBM a generative or Discriminative model?</h4>\n",
    "RBM is a generative model. Let me explain it by first, see what is different between discriminative and generative models: \n",
    "\n",
    "<b>Discriminative:</b> Consider a classification problem in which we want to learn to distinguish between Sedan cars (y = 1) and SUV cars (y = 0), based on some features of cars. Given a training set, an algorithm like logistic regression tries to find a straight line—that is, a decision boundary—that separates the suv and sedan.  \n",
    "<b>Generative:</b> looking at cars, we can build a model of what Sedan cars look like. Then, looking at SUVs, we can build a separate model of what SUV cars look like. Finally, to classify a new car, we can match the new car against the Sedan model, and match it against the SUV model, to see whether the new car looks more like the SUV or Sedan. \n",
    "\n",
    "Generative Models specify a probability distribution over a dataset of input vectors. We can do both supervise and unsupervised tasks with generative models:\n",
    "<ul>\n",
    "    <li>In an unsupervised task, we try to form a model for P(x), where P is the probability given x as an input vector.</li>\n",
    "    <li>In the supervised task, we first form a model for P(x|y), where P is the probability of x given y(the label for x). For example, if y = 0 indicates whether a car is a SUV or y = 1 indicates indicate a car is a Sedan, then p(x|y = 0) models the distribution of SUVs’ features, and p(x|y = 1) models the distribution of Sedans’ features. If we manage to find P(x|y) and P(y), then we can use <code>Bayes rule</code> to estimate P(y|x), because: $$p(y|x) = \\frac{p(x|y)p(y)}{p(x)}$$</li>\n",
    "</ul>\n",
    "Now the question is, can we build a generative model, and then use it to create synthetic data by directly sampling from the modeled probability distributions? Lets see. "
   ]
  },
  {
   "cell_type": "markdown",
   "metadata": {},
   "source": [
    "<h2>Table of Contents</h2>\n",
    "<ol>\n",
    "    <li><a href=\"#ref1\">Initialization</a></li>\n",
    "    <li><a href=\"#ref2\">RBM layers</a></li>\n",
    "    <li><a href=\"#ref3\">What RBM can do after training?</a></li>\n",
    "    <li><a href=\"#ref4\">How to train the model?</a></li>\n",
    "    <li><a href=\"#ref5\">Learned features</a></li>\n",
    "</ol>\n",
    "<p></p>\n",
    "</div>\n",
    "<br>\n",
    "\n",
    "<hr>"
   ]
  },
  {
   "cell_type": "markdown",
   "metadata": {},
   "source": [
    "<a id=\"ref1\"></a>\n",
    "<h3>Initialization</h3>\n",
    "\n",
    "First we have to load the utility file which contains different utility functions that are not connected\n",
    "in any way to the networks presented in the tutorials, but rather help in\n",
    "processing the outputs into a more understandable way."
   ]
  },
  {
   "cell_type": "code",
   "execution_count": 21,
   "metadata": {},
   "outputs": [],
   "source": [
    "import urllib.request\n",
    "with urllib.request.urlopen(\"http://deeplearning.net/tutorial/code/utils.py\") as url:\n",
    "    response = url.read()\n",
    "target = open('utils.py', 'w')\n",
    "target.write(response.decode('utf-8'))\n",
    "target.close()"
   ]
  },
  {
   "cell_type": "markdown",
   "metadata": {},
   "source": [
    "Now, we load in all the packages that we use to create the net including the TensorFlow package:"
   ]
  },
  {
   "cell_type": "code",
   "execution_count": 22,
   "metadata": {},
   "outputs": [],
   "source": [
    "import tensorflow as tf\n",
    "import numpy as np\n",
    "from tensorflow.examples.tutorials.mnist import input_data\n",
    "#!pip install pillow\n",
    "from PIL import Image\n",
    "from utils import tile_raster_images\n",
    "import matplotlib.pyplot as plt\n",
    "%matplotlib inline"
   ]
  },
  {
   "cell_type": "markdown",
   "metadata": {},
   "source": [
    "<hr>"
   ]
  },
  {
   "cell_type": "markdown",
   "metadata": {},
   "source": [
    "<a id=\"ref2\"></a>\n",
    "<h3>RBM layers</h3>\n",
    "\n",
    "An RBM has two layers. The first layer of the RBM is called the <b>visible</b> (or input layer). Imagine that our toy example, has only vectors with 7 values, so the visible layer must have j=7 input nodes. \n",
    "The second layer is the <b>hidden</b> layer, which possesses i neurons in our case. Each hidden node can have either 0 or 1 values (i.e., si = 1 or si = 0) with a probability that is a logistic function of the inputs it receives from the other j visible units, called for example, p(si = 1). For our toy sample, we'll use 2 nodes in the hidden layer, so i = 2.\n",
    "\n",
    "<center><img src=\"https://ibm.box.com/shared/static/eu26opvcefgls6vnwuo29uwp0nudmokh.png\" alt=\"RBM Model\" style=\"width: 400px;\"></center>"
   ]
  },
  {
   "cell_type": "markdown",
   "metadata": {},
   "source": [
    "     \n",
    "\n",
    "Each node in the first layer also has a <b>bias</b>. We will denote the bias as “v_bias” for the visible units. The <b>v_bias</b> is shared among all visible units.\n",
    "\n",
    "Here we define the <b>bias</b> of second layer as well. We will denote the bias as “h_bias” for the hidden units. The <b>h_bias</b> is shared among all hidden units"
   ]
  },
  {
   "cell_type": "code",
   "execution_count": 23,
   "metadata": {},
   "outputs": [],
   "source": [
    "v_bias = tf.placeholder(\"float\", [7])\n",
    "h_bias = tf.placeholder(\"float\", [2])"
   ]
  },
  {
   "cell_type": "markdown",
   "metadata": {},
   "source": [
    "We have to define weights among the input layer and hidden layer nodes. In the weight matrix, the number of rows are equal to the input nodes, and the number of columns are equal to the output nodes. Let <b>W</b> be the Tensor of 7x2 (7 - number of visible neurons, 2 - number of hidden neurons) that represents weights between neurons. "
   ]
  },
  {
   "cell_type": "code",
   "execution_count": 24,
   "metadata": {},
   "outputs": [],
   "source": [
    "W = tf.constant(np.random.normal(loc=0.0, scale=1.0, size=(7, 2)).astype(np.float32))"
   ]
  },
  {
   "cell_type": "markdown",
   "metadata": {},
   "source": [
    "<hr>"
   ]
  },
  {
   "cell_type": "markdown",
   "metadata": {},
   "source": [
    "<a id=\"ref3\"></a>\n",
    "<h3>What RBM can do after training?</h3>\n",
    "Think RBM as a model that has been trained based on images of a dataset of many SUV and Sedan cars. Also, imagine that the RBM network has only two hidden nodes, one for the weight and, and one for the size of cars, which in a sense, their different configurations represent different cars, one represent SUV cars and one for Sedan. In a training process, through many forward and backward passes, RBM adjust its weights to send a stronger signal to either the SUV node (0, 1) or the Sedan node (1, 0) in the hidden layer, given the pixels of images. Now, given a SUV in hidden layer, which distribution of pixels should we expect? RBM can give you 2 things. First, it encodes your images in hidden layer. Second, it gives you the probability of observing a case, given some hidden values.\n",
    "\n",
    "\n",
    "<h3>How to inference?</h3>\n",
    "\n",
    "RBM has two phases:\n",
    "<ul>\n",
    "    <li>Forward Pass</li>  \n",
    "    <li>Backward Pass or Reconstruction</li>\n",
    "</ul>\n",
    "\n",
    "<b>Phase 1) Forward pass:</b>  Input one training sample (one image) <b>X</b> through all visible nodes, and pass it to all hidden nodes. Processing happens in each node in the hidden layer. This computation begins by making stochastic decisions about whether to transmit that input or not (i.e. to determine the state of each hidden layer). At the hidden layer's nodes, <b>X</b> is multiplied by a <b>$W_{ij}$</b> and added to <b>h_bias</b>. The result of those two operations is fed into the sigmoid function, which produces the node’s output, $p({h_j})$, where j is the unit number. \n",
    "\n",
    "\n",
    "$p({h_j})= \\sigma(\\sum_i w_{ij} x_i)$, where $\\sigma()$ is the logistic function.\n",
    "\n",
    "\n",
    "Now lets see what $p({h_j})$ represents. In fact, it is the probabilities of the hidden units. And, all values together are called <b>probability distribution</b>. That is, RBM uses inputs x to make predictions about hidden node activations. For example, imagine that the values of $h_p$ for the first training item is [0.51 0.84]. It tells you what is the conditional probability for each hidden neuron to be at Phase 1): \n",
    "<ul>\n",
    "    <li>p($h_{1}$ = 1|V) = 0.51</li>\n",
    "    <li>($h_{2}$ = 1|V) = 0.84</li>  \n",
    "</ul>\n",
    "\n",
    "As a result, for each row in the training set, <b>a vector/tensor</b> is generated, which in our case it is of size [1x2], and totally n vectors ($p({h})$=[nx2]). \n",
    "\n",
    "We then turn unit $h_j$ on with probability $p(h_{j}|V)$, and turn it off with probability $1 - p(h_{j}|V)$.\n",
    "\n",
    "Therefore, the conditional probability of a configuration of h given v (for a training sample) is:\n",
    "\n",
    "$$p(\\mathbf{h} \\mid \\mathbf{v}) = \\prod_{j=0}^H p(h_j \\mid \\mathbf{v})$$"
   ]
  },
  {
   "cell_type": "markdown",
   "metadata": {},
   "source": [
    "Now, sample a hidden activation vector <b>h</b> from this probability distribution $p({h_j})$. That is, we sample the activation vector from the probability distribution of hidden layer values. "
   ]
  },
  {
   "cell_type": "markdown",
   "metadata": {},
   "source": [
    "Before we go further, let's look at a toy example for one case out of all input. Assume that we have a trained RBM, and a very simple input vector such as [1.0, 0.0, 0.0, 1.0, 0.0, 0.0, 0.0], lets see what would be the output of forward pass:"
   ]
  },
  {
   "cell_type": "code",
   "execution_count": 29,
   "metadata": {},
   "outputs": [
    {
     "name": "stdout",
     "output_type": "stream",
     "text": [
      "Input:  [[1. 0. 0. 1. 0. 0. 0.]]\n",
      "hb:  [0.1 0.1]\n",
      "w:  [[ 0.38821936 -0.9493392 ]\n",
      " [ 0.41320437 -0.7075554 ]\n",
      " [ 0.13589635  0.54328674]\n",
      " [ 0.49678725 -0.321693  ]\n",
      " [-0.2567914   0.8453251 ]\n",
      " [-0.6546259   0.12410519]\n",
      " [-0.60361505 -1.1607699 ]]\n",
      "p(h|v):  [[0.72810054 0.23666847]]\n",
      "h0 states: [[1. 0.]]\n",
      "[[0.9629215  0.33663845]]\n"
     ]
    }
   ],
   "source": [
    "sess = tf.Session()\n",
    "X = tf.constant([[1.0, 0.0, 0.0, 1.0, 0.0, 0.0, 0.0]])\n",
    "v_state = X\n",
    "print (\"Input: \", sess.run(v_state))\n",
    "\n",
    "h_bias = tf.constant([0.1, 0.1])\n",
    "print (\"hb: \", sess.run(h_bias))\n",
    "print (\"w: \", sess.run(W))\n",
    "\n",
    "# Calculate the probabilities of turning the hidden units on:\n",
    "h_prob = tf.nn.sigmoid(tf.matmul(v_state, W) + h_bias)  #probabilities of the hidden units\n",
    "print (\"p(h|v): \", sess.run(h_prob))\n",
    "\n",
    "# Draw samples from the distribution:\n",
    "h_state = tf.nn.relu(tf.sign(h_prob - tf.random_uniform(tf.shape(h_prob)))) #states\n",
    "print (\"h0 states:\", sess.run(h_state))\n",
    "stuff = tf.random_uniform(tf.shape(h_prob))\n",
    "print(sess.run(stuff))"
   ]
  },
  {
   "cell_type": "markdown",
   "metadata": {},
   "source": [
    "<b>Phase 2) Backward Pass (Reconstruction):</b>\n",
    "The RBM reconstructs data by making several forward and backward passes between the visible and hidden layers.\n",
    "\n",
    "So, in the second phase (i.e. reconstruction phase), the samples from the hidden layer (i.e. h) play the role of input. That is, <b>h</b> becomes the input in the backward pass. The same weight matrix and visible layer biases are used to go through the sigmoid function. The produced output is a reconstruction which is an approximation of the original input."
   ]
  },
  {
   "cell_type": "code",
   "execution_count": 10,
   "metadata": {},
   "outputs": [
    {
     "name": "stdout",
     "output_type": "stream",
     "text": [
      "b:  [0.1 0.2 0.1 0.1 0.1 0.2 0.1]\n",
      "p(vi∣h):  [[0.5661178  0.3283337  0.36618698 0.7165041  0.40451092 0.16258098\n",
      "  0.34253293]]\n",
      "v probability states:  [[0. 1. 1. 1. 0. 0. 0.]]\n"
     ]
    }
   ],
   "source": [
    "vb = tf.constant([0.1, 0.2, 0.1, 0.1, 0.1, 0.2, 0.1])\n",
    "print (\"b: \", sess.run(vb))\n",
    "v_prob = sess.run(tf.nn.sigmoid(tf.matmul(h_state, tf.transpose(W)) + vb))\n",
    "print (\"p(vi∣h): \", v_prob)\n",
    "v_state = tf.nn.relu(tf.sign(v_prob - tf.random_uniform(tf.shape(v_prob))))\n",
    "print (\"v probability states: \", sess.run(v_state))"
   ]
  },
  {
   "cell_type": "markdown",
   "metadata": {},
   "source": [
    "RBM learns a probability distribution over the input, and then, after being trained, the RBM can generate new samples from the learned probability distribution. As you know, <b>probability distribution</b>, is a mathematical function that provides the probabilities of occurrence of different possible outcomes in an experiment.\n",
    "\n",
    "The (conditional) probability distribution over the visible units v is given by\n",
    "\n",
    "$p(\\mathbf{v} \\mid \\mathbf{h}) = \\prod_{i=0}^V p(v_i \\mid \\mathbf{h}),$\n",
    "\n",
    "\n",
    "where,\n",
    "\n",
    "$p(v_i \\mid \\mathbf{h}) = \\sigma\\left( a_i + \\sum_{j=0}^H w_{ji} h_j \\right)$\n",
    "\n",
    "so, given current state of hidden units and weights, what is the probability of generating [1. 0. 0. 1. 0. 0. 0.] in reconstruction phase, based on the above <b>probability distribution</b> function?"
   ]
  },
  {
   "cell_type": "code",
   "execution_count": 11,
   "metadata": {},
   "outputs": [
    {
     "name": "stdout",
     "output_type": "stream",
     "text": [
      "[[1. 0. 0. 1. 0. 0. 0.]]\n",
      "[0.5661178  0.3283337  0.36618698 0.7165041  0.40451092 0.16258098\n",
      " 0.34253293]\n"
     ]
    },
    {
     "data": {
      "text/plain": [
       "0.05661491356635192"
      ]
     },
     "execution_count": 11,
     "metadata": {},
     "output_type": "execute_result"
    }
   ],
   "source": [
    "inp = sess.run(X)\n",
    "print(inp)\n",
    "print(v_prob[0])\n",
    "v_probability = 1\n",
    "for elm, p in zip(inp[0],v_prob[0]) :\n",
    "    if elm ==1:\n",
    "        v_probability *= p\n",
    "    else:\n",
    "        v_probability *= (1-p)\n",
    "v_probability"
   ]
  },
  {
   "cell_type": "markdown",
   "metadata": {},
   "source": [
    "How similar X and V vectors are? Of course, the reconstructed values most likely will not look anything like the input vector because our network has not trained yet. Our objective is to train the model in such a way that the input vector and reconstructed vector to be same. Therefore, based on how different the input values look to the ones that we just reconstructed, the weights are adjusted. "
   ]
  },
  {
   "cell_type": "markdown",
   "metadata": {},
   "source": [
    "<hr>"
   ]
  },
  {
   "cell_type": "markdown",
   "metadata": {},
   "source": [
    "\n",
    "<h2>MNIST</h2>\n"
   ]
  },
  {
   "cell_type": "markdown",
   "metadata": {},
   "source": [
    "We will be using the MNIST dataset to practice the usage of RBMs. The following cell loads the MNIST dataset."
   ]
  },
  {
   "cell_type": "code",
   "execution_count": 30,
   "metadata": {},
   "outputs": [
    {
     "name": "stdout",
     "output_type": "stream",
     "text": [
      "Extracting MNIST_data/train-images-idx3-ubyte.gz\n",
      "Extracting MNIST_data/train-labels-idx1-ubyte.gz\n",
      "Extracting MNIST_data/t10k-images-idx3-ubyte.gz\n",
      "Extracting MNIST_data/t10k-labels-idx1-ubyte.gz\n"
     ]
    }
   ],
   "source": [
    "mnist = input_data.read_data_sets(\"MNIST_data/\", one_hot=True)\n",
    "trX, trY, teX, teY = mnist.train.images, mnist.train.labels, mnist.test.images, mnist.test.labels"
   ]
  },
  {
   "cell_type": "markdown",
   "metadata": {},
   "source": [
    "Lets look at the dimension of the images."
   ]
  },
  {
   "cell_type": "code",
   "execution_count": 31,
   "metadata": {},
   "outputs": [
    {
     "data": {
      "text/plain": [
       "(784,)"
      ]
     },
     "execution_count": 31,
     "metadata": {},
     "output_type": "execute_result"
    }
   ],
   "source": [
    "trX[1].shape"
   ]
  },
  {
   "cell_type": "markdown",
   "metadata": {},
   "source": [
    "MNIST images have 784 pixels, so the visible layer must have 784 input nodes.  For our case, we'll use 50 nodes in the hidden layer, so i = 50."
   ]
  },
  {
   "cell_type": "code",
   "execution_count": 32,
   "metadata": {},
   "outputs": [],
   "source": [
    "vb = tf.placeholder(\"float\", [784])\n",
    "hb = tf.placeholder(\"float\", [50])"
   ]
  },
  {
   "cell_type": "markdown",
   "metadata": {},
   "source": [
    "Let <b>W</b> be the Tensor of 784x50 (784 - number of visible neurons, 50 - number of hidden neurons) that represents weights between the neurons. "
   ]
  },
  {
   "cell_type": "code",
   "execution_count": 33,
   "metadata": {},
   "outputs": [],
   "source": [
    "W = tf.placeholder(\"float\", [784, 50])"
   ]
  },
  {
   "cell_type": "markdown",
   "metadata": {},
   "source": [
    "Lets define the visible layer:"
   ]
  },
  {
   "cell_type": "code",
   "execution_count": 34,
   "metadata": {},
   "outputs": [],
   "source": [
    "v0_state = tf.placeholder(\"float\", [None, 784])"
   ]
  },
  {
   "cell_type": "markdown",
   "metadata": {},
   "source": [
    "Now, we can define hidden layer:"
   ]
  },
  {
   "cell_type": "code",
   "execution_count": 35,
   "metadata": {},
   "outputs": [],
   "source": [
    "h0_prob = tf.nn.sigmoid(tf.matmul(v0_state, W) + hb)  #probabilities of the hidden units\n",
    "h0_state = tf.nn.relu(tf.sign(h0_prob - tf.random_uniform(tf.shape(h0_prob)))) #sample_h_given_X"
   ]
  },
  {
   "cell_type": "markdown",
   "metadata": {},
   "source": [
    "Now, we define reconstruction part:"
   ]
  },
  {
   "cell_type": "code",
   "execution_count": 36,
   "metadata": {},
   "outputs": [],
   "source": [
    "v1_prob = tf.nn.sigmoid(tf.matmul(h0_state, tf.transpose(W)) + vb) \n",
    "v1_state = tf.nn.relu(tf.sign(v1_prob - tf.random_uniform(tf.shape(v1_prob)))) #sample_v_given_h"
   ]
  },
  {
   "cell_type": "markdown",
   "metadata": {},
   "source": [
    "<h3>What is objective function?</h3>\n",
    "\n",
    "<b>Goal</b>: Maximize the likelihood of our data being drawn from that distribution\n",
    "\n",
    "<b>Calculate error:</b>  \n",
    "In each epoch, we compute the \"error\" as a sum of the squared difference between step 1 and step n,\n",
    "e.g the error shows the difference between the data and its reconstruction.\n",
    "\n",
    "<b>Note:</b> tf.reduce_mean computes the mean of elements across dimensions of a tensor."
   ]
  },
  {
   "cell_type": "code",
   "execution_count": 37,
   "metadata": {},
   "outputs": [],
   "source": [
    "err = tf.reduce_mean(tf.square(v0_state - v1_state))"
   ]
  },
  {
   "cell_type": "markdown",
   "metadata": {},
   "source": [
    "<a id=\"ref4\"></a>\n",
    "<h3>How to train the model?</h3>\n",
    "<b>Warning!!</b> The following part discuss how to train the model which needs some algebra background. Still, you can skip this part and run the next cells.\n",
    "\n",
    "As mentioned, we want to give a high probability to the input data we train on. So, in order to train an RBM, we have to maximize the product of probabilities assigned to all rows v (images) in the training set V (a matrix, where each row of it is treated as a visible vector v):\n",
    "\n",
    "<img src=\"https://wikimedia.org/api/rest_v1/media/math/render/svg/d42e9f5aad5e1a62b11b119c9315236383c1864a\">\n",
    "\n",
    "\n",
    "Which is equivalent, maximizing the expected log probability of V:\n",
    "\n",
    "\n",
    "<img src=\"https://wikimedia.org/api/rest_v1/media/math/render/svg/ba0ceed99dca5ff1d21e5ace23f5f2223f19efc0\">\n",
    "\n",
    "\n",
    "So, we have to update the weights wij  to increase p(v) for all v in our training data during training. So we have to calculate the derivative:\n",
    "\n",
    "\n",
    "$$\\frac{\\partial \\log p(\\mathbf v)}{\\partial w_{ij}}$$\n",
    "\n",
    "This cannot be easily done by typical <b>gradient descent (SGD)</b>, so we can use another approach, which has 2 steps:\n",
    "<ol>\n",
    "    <li>Gibbs Sampling</li>\n",
    "    <li>Contrastive Divergence</li>\n",
    "</ol>    \n",
    "    \n",
    "<h3>Gibbs Sampling</h3>   \n",
    "First, given an input vector v we are using p(h|v) for prediction of the hidden values h. \n",
    "<ul>\n",
    "    <li>$p(h|v) = sigmoid(X \\otimes W + hb)$</li>\n",
    "    <li>h0 = sampleProb(h0)</li>\n",
    "</ul>\n",
    "    \n",
    "Then, knowing the hidden values, we use p(v|h) for reconstructing of new input values v. \n",
    "<ul>\n",
    "    <li>$p(v|h) = sigmoid(h0 \\otimes transpose(W) + vb)$</li>\n",
    "    <li>$v1 = sampleProb(v1)$  (Sample v given h)</li>\n",
    "</ul>\n",
    "        \n",
    "This process is repeated k times. After k iterations we obtain an other input vector vk which was recreated from original input values v0 or X.\n",
    "\n",
    "Reconstruction steps:\n",
    "<ul>\n",
    "    <li> Get one data point from data set, like <i>x</i>, and pass it through the net</li>\n",
    "    <li>Pass 0: (x)  $\\Rightarrow$ (h0) $\\Rightarrow$  (v1)   (v1 is reconstruction of the first pass)</li>\n",
    "    <li>Pass 1: (v1) $\\Rightarrow$  (h1) $\\Rightarrow$  (v2)   (v2 is reconstruction of the second pass)</li>\n",
    "    <li>Pass 2: (v2) $\\Rightarrow$  (h2) $\\Rightarrow$  (v3)   (v3 is reconstruction of the third pass)</li>\n",
    "    <li>Pass n: (vk) $\\Rightarrow$  (hk+1) $\\Rightarrow$  (vk+1)(vk is reconstruction of the nth pass)</li>\n",
    "</ul>\n",
    "        \n",
    "<h4>What is sampling here (sampleProb)?</h4>\n",
    "\n",
    "In forward pass: We randomly set the values of each hi to be 1 with probability $sigmoid(v \\otimes W + hb)$.  \n",
    "- To sample h given v means to sample from the conditional probability distribution P(h|v). It means that you are asking what are the probabilities of getting a specific set of values for the hidden neurons, given the values v for the visible neurons, and sampling from this probability distribution. \n",
    "In reconstruction: We randomly set the values of each vi to be 1 with probability $ sigmoid(h \\otimes transpose(W) + vb)$.\n",
    "\n",
    "<h3>contrastive divergence (CD-k)</h3>\n",
    "The update of the weight matrix is done during the Contrastive Divergence step. \n",
    "\n",
    "Vectors v0 and vk are used to calculate the activation probabilities for hidden values h0 and hk. The difference between the outer products of those probabilities with input vectors v0 and vk results in the update matrix:\n",
    "\n",
    "\n",
    "$\\Delta W =v0 \\otimes h0 - vk \\otimes hk$ \n",
    "\n",
    "Contrastive Divergence is actually matrix of values that is computed and used to adjust values of the W matrix. Changing W incrementally leads to training of W values. Then on each step (epoch), W is updated to a new value W' through the equation below:\n",
    "\n",
    "$W' = W + alpha * \\Delta W$ \n",
    "\n",
    " \n",
    "<b>What is Alpha?</b>  \n",
    "Here, alpha is some small step rate and is also known as the \"learning rate\".\n",
    "\n",
    "\n"
   ]
  },
  {
   "cell_type": "markdown",
   "metadata": {},
   "source": [
    "Ok, lets assume that k=1, that is we just get one more step:"
   ]
  },
  {
   "cell_type": "code",
   "execution_count": 38,
   "metadata": {},
   "outputs": [],
   "source": [
    "h1_prob = tf.nn.sigmoid(tf.matmul(v1_state, W) + hb)\n",
    "h1_state = tf.nn.relu(tf.sign(h1_prob - tf.random_uniform(tf.shape(h1_prob)))) #sample_h_given_X"
   ]
  },
  {
   "cell_type": "code",
   "execution_count": 39,
   "metadata": {},
   "outputs": [],
   "source": [
    "alpha = 0.01\n",
    "W_Delta = tf.matmul(tf.transpose(v0_state), h0_prob) - tf.matmul(tf.transpose(v1_state), h1_prob)\n",
    "update_w = W + alpha * W_Delta\n",
    "update_vb = vb + alpha * tf.reduce_mean(v0_state - v1_state, 0)\n",
    "update_hb = hb + alpha * tf.reduce_mean(h0_state - h1_state, 0)"
   ]
  },
  {
   "cell_type": "markdown",
   "metadata": {},
   "source": [
    "Let's start a session and initialize the variables:"
   ]
  },
  {
   "cell_type": "code",
   "execution_count": 40,
   "metadata": {},
   "outputs": [],
   "source": [
    "cur_w = np.zeros([784, 50], np.float32)\n",
    "cur_vb = np.zeros([784], np.float32)\n",
    "cur_hb = np.zeros([50], np.float32)\n",
    "prv_w = np.zeros([784, 50], np.float32)\n",
    "prv_vb = np.zeros([784], np.float32)\n",
    "prv_hb = np.zeros([50], np.float32)\n",
    "sess = tf.Session()\n",
    "init = tf.global_variables_initializer()\n",
    "sess.run(init)"
   ]
  },
  {
   "cell_type": "markdown",
   "metadata": {},
   "source": [
    "Lets look at the error of the first run:"
   ]
  },
  {
   "cell_type": "code",
   "execution_count": 47,
   "metadata": {},
   "outputs": [
    {
     "name": "stdout",
     "output_type": "stream",
     "text": [
      "[(0, 100), (100, 200), (200, 300), (300, 400), (400, 500), (500, 600), (600, 700), (700, 800), (800, 900), (900, 1000), (1000, 1100), (1100, 1200), (1200, 1300), (1300, 1400), (1400, 1500), (1500, 1600), (1600, 1700), (1700, 1800), (1800, 1900), (1900, 2000), (2000, 2100), (2100, 2200), (2200, 2300), (2300, 2400), (2400, 2500), (2500, 2600), (2600, 2700), (2700, 2800), (2800, 2900), (2900, 3000), (3000, 3100), (3100, 3200), (3200, 3300), (3300, 3400), (3400, 3500), (3500, 3600), (3600, 3700), (3700, 3800), (3800, 3900), (3900, 4000), (4000, 4100), (4100, 4200), (4200, 4300), (4300, 4400), (4400, 4500), (4500, 4600), (4600, 4700), (4700, 4800), (4800, 4900), (4900, 5000), (5000, 5100), (5100, 5200), (5200, 5300), (5300, 5400), (5400, 5500), (5500, 5600), (5600, 5700), (5700, 5800), (5800, 5900), (5900, 6000), (6000, 6100), (6100, 6200), (6200, 6300), (6300, 6400), (6400, 6500), (6500, 6600), (6600, 6700), (6700, 6800), (6800, 6900), (6900, 7000), (7000, 7100), (7100, 7200), (7200, 7300), (7300, 7400), (7400, 7500), (7500, 7600), (7600, 7700), (7700, 7800), (7800, 7900), (7900, 8000), (8000, 8100), (8100, 8200), (8200, 8300), (8300, 8400), (8400, 8500), (8500, 8600), (8600, 8700), (8700, 8800), (8800, 8900), (8900, 9000), (9000, 9100), (9100, 9200), (9200, 9300), (9300, 9400), (9400, 9500), (9500, 9600), (9600, 9700), (9700, 9800), (9800, 9900), (9900, 10000), (10000, 10100), (10100, 10200), (10200, 10300), (10300, 10400), (10400, 10500), (10500, 10600), (10600, 10700), (10700, 10800), (10800, 10900), (10900, 11000), (11000, 11100), (11100, 11200), (11200, 11300), (11300, 11400), (11400, 11500), (11500, 11600), (11600, 11700), (11700, 11800), (11800, 11900), (11900, 12000), (12000, 12100), (12100, 12200), (12200, 12300), (12300, 12400), (12400, 12500), (12500, 12600), (12600, 12700), (12700, 12800), (12800, 12900), (12900, 13000), (13000, 13100), (13100, 13200), (13200, 13300), (13300, 13400), (13400, 13500), (13500, 13600), (13600, 13700), (13700, 13800), (13800, 13900), (13900, 14000), (14000, 14100), (14100, 14200), (14200, 14300), (14300, 14400), (14400, 14500), (14500, 14600), (14600, 14700), (14700, 14800), (14800, 14900), (14900, 15000), (15000, 15100), (15100, 15200), (15200, 15300), (15300, 15400), (15400, 15500), (15500, 15600), (15600, 15700), (15700, 15800), (15800, 15900), (15900, 16000), (16000, 16100), (16100, 16200), (16200, 16300), (16300, 16400), (16400, 16500), (16500, 16600), (16600, 16700), (16700, 16800), (16800, 16900), (16900, 17000), (17000, 17100), (17100, 17200), (17200, 17300), (17300, 17400), (17400, 17500), (17500, 17600), (17600, 17700), (17700, 17800), (17800, 17900), (17900, 18000), (18000, 18100), (18100, 18200), (18200, 18300), (18300, 18400), (18400, 18500), (18500, 18600), (18600, 18700), (18700, 18800), (18800, 18900), (18900, 19000), (19000, 19100), (19100, 19200), (19200, 19300), (19300, 19400), (19400, 19500), (19500, 19600), (19600, 19700), (19700, 19800), (19800, 19900), (19900, 20000), (20000, 20100), (20100, 20200), (20200, 20300), (20300, 20400), (20400, 20500), (20500, 20600), (20600, 20700), (20700, 20800), (20800, 20900), (20900, 21000), (21000, 21100), (21100, 21200), (21200, 21300), (21300, 21400), (21400, 21500), (21500, 21600), (21600, 21700), (21700, 21800), (21800, 21900), (21900, 22000), (22000, 22100), (22100, 22200), (22200, 22300), (22300, 22400), (22400, 22500), (22500, 22600), (22600, 22700), (22700, 22800), (22800, 22900), (22900, 23000), (23000, 23100), (23100, 23200), (23200, 23300), (23300, 23400), (23400, 23500), (23500, 23600), (23600, 23700), (23700, 23800), (23800, 23900), (23900, 24000), (24000, 24100), (24100, 24200), (24200, 24300), (24300, 24400), (24400, 24500), (24500, 24600), (24600, 24700), (24700, 24800), (24800, 24900), (24900, 25000), (25000, 25100), (25100, 25200), (25200, 25300), (25300, 25400), (25400, 25500), (25500, 25600), (25600, 25700), (25700, 25800), (25800, 25900), (25900, 26000), (26000, 26100), (26100, 26200), (26200, 26300), (26300, 26400), (26400, 26500), (26500, 26600), (26600, 26700), (26700, 26800), (26800, 26900), (26900, 27000), (27000, 27100), (27100, 27200), (27200, 27300), (27300, 27400), (27400, 27500), (27500, 27600), (27600, 27700), (27700, 27800), (27800, 27900), (27900, 28000), (28000, 28100), (28100, 28200), (28200, 28300), (28300, 28400), (28400, 28500), (28500, 28600), (28600, 28700), (28700, 28800), (28800, 28900), (28900, 29000), (29000, 29100), (29100, 29200), (29200, 29300), (29300, 29400), (29400, 29500), (29500, 29600), (29600, 29700), (29700, 29800), (29800, 29900), (29900, 30000), (30000, 30100), (30100, 30200), (30200, 30300), (30300, 30400), (30400, 30500), (30500, 30600), (30600, 30700), (30700, 30800), (30800, 30900), (30900, 31000), (31000, 31100), (31100, 31200), (31200, 31300), (31300, 31400), (31400, 31500), (31500, 31600), (31600, 31700), (31700, 31800), (31800, 31900), (31900, 32000), (32000, 32100), (32100, 32200), (32200, 32300), (32300, 32400), (32400, 32500), (32500, 32600), (32600, 32700), (32700, 32800), (32800, 32900), (32900, 33000), (33000, 33100), (33100, 33200), (33200, 33300), (33300, 33400), (33400, 33500), (33500, 33600), (33600, 33700), (33700, 33800), (33800, 33900), (33900, 34000), (34000, 34100), (34100, 34200), (34200, 34300), (34300, 34400), (34400, 34500), (34500, 34600), (34600, 34700), (34700, 34800), (34800, 34900), (34900, 35000), (35000, 35100), (35100, 35200), (35200, 35300), (35300, 35400), (35400, 35500), (35500, 35600), (35600, 35700), (35700, 35800), (35800, 35900), (35900, 36000), (36000, 36100), (36100, 36200), (36200, 36300), (36300, 36400), (36400, 36500), (36500, 36600), (36600, 36700), (36700, 36800), (36800, 36900), (36900, 37000), (37000, 37100), (37100, 37200), (37200, 37300), (37300, 37400), (37400, 37500), (37500, 37600), (37600, 37700), (37700, 37800), (37800, 37900), (37900, 38000), (38000, 38100), (38100, 38200), (38200, 38300), (38300, 38400), (38400, 38500), (38500, 38600), (38600, 38700), (38700, 38800), (38800, 38900), (38900, 39000), (39000, 39100), (39100, 39200), (39200, 39300), (39300, 39400), (39400, 39500), (39500, 39600), (39600, 39700), (39700, 39800), (39800, 39900), (39900, 40000), (40000, 40100), (40100, 40200), (40200, 40300), (40300, 40400), (40400, 40500), (40500, 40600), (40600, 40700), (40700, 40800), (40800, 40900), (40900, 41000), (41000, 41100), (41100, 41200), (41200, 41300), (41300, 41400), (41400, 41500), (41500, 41600), (41600, 41700), (41700, 41800), (41800, 41900), (41900, 42000), (42000, 42100), (42100, 42200), (42200, 42300), (42300, 42400), (42400, 42500), (42500, 42600), (42600, 42700), (42700, 42800), (42800, 42900), (42900, 43000), (43000, 43100), (43100, 43200), (43200, 43300), (43300, 43400), (43400, 43500), (43500, 43600), (43600, 43700), (43700, 43800), (43800, 43900), (43900, 44000), (44000, 44100), (44100, 44200), (44200, 44300), (44300, 44400), (44400, 44500), (44500, 44600), (44600, 44700), (44700, 44800), (44800, 44900), (44900, 45000), (45000, 45100), (45100, 45200), (45200, 45300), (45300, 45400), (45400, 45500), (45500, 45600), (45600, 45700), (45700, 45800), (45800, 45900), (45900, 46000), (46000, 46100), (46100, 46200), (46200, 46300), (46300, 46400), (46400, 46500), (46500, 46600), (46600, 46700), (46700, 46800), (46800, 46900), (46900, 47000), (47000, 47100), (47100, 47200), (47200, 47300), (47300, 47400), (47400, 47500), (47500, 47600), (47600, 47700), (47700, 47800), (47800, 47900), (47900, 48000), (48000, 48100), (48100, 48200), (48200, 48300), (48300, 48400), (48400, 48500), (48500, 48600), (48600, 48700), (48700, 48800), (48800, 48900), (48900, 49000), (49000, 49100), (49100, 49200), (49200, 49300), (49300, 49400), (49400, 49500), (49500, 49600), (49600, 49700), (49700, 49800), (49800, 49900), (49900, 50000), (50000, 50100), (50100, 50200), (50200, 50300), (50300, 50400), (50400, 50500), (50500, 50600), (50600, 50700), (50700, 50800), (50800, 50900), (50900, 51000), (51000, 51100), (51100, 51200), (51200, 51300), (51300, 51400), (51400, 51500), (51500, 51600), (51600, 51700), (51700, 51800), (51800, 51900), (51900, 52000), (52000, 52100), (52100, 52200), (52200, 52300), (52300, 52400), (52400, 52500), (52500, 52600), (52600, 52700), (52700, 52800), (52800, 52900), (52900, 53000), (53000, 53100), (53100, 53200), (53200, 53300), (53300, 53400), (53400, 53500), (53500, 53600), (53600, 53700), (53700, 53800), (53800, 53900), (53900, 54000), (54000, 54100), (54100, 54200), (54200, 54300), (54300, 54400), (54400, 54500), (54500, 54600), (54600, 54700), (54700, 54800), (54800, 54900)]\n",
      "549\n"
     ]
    }
   ],
   "source": [
    "sess.run(err, feed_dict={v0_state: trX, W: prv_w, vb: prv_vb, hb: prv_hb})\n",
    "\n",
    "a = list(zip(range(0,len(trX), 100), range(100, len(trX), 100)))\n",
    "\n",
    "print(a)\n",
    "print(len(a))"
   ]
  },
  {
   "cell_type": "code",
   "execution_count": 48,
   "metadata": {},
   "outputs": [
    {
     "name": "stdout",
     "output_type": "stream",
     "text": [
      "Epoch: 0 reconstruction error: 0.092760\n",
      "Epoch: 1 reconstruction error: 0.089443\n",
      "Epoch: 2 reconstruction error: 0.087419\n",
      "Epoch: 3 reconstruction error: 0.087194\n",
      "Epoch: 4 reconstruction error: 0.087314\n"
     ]
    },
    {
     "data": {
      "image/png": "[encoded data removed]",
      "text/plain": [
       "<Figure size 432x288 with 1 Axes>"
      ]
     },
     "metadata": {
      "needs_background": "light"
     },
     "output_type": "display_data"
    }
   ],
   "source": [
    "#Parameters\n",
    "epochs = 5\n",
    "batchsize = 100\n",
    "weights = []\n",
    "errors = []\n",
    "\n",
    "for epoch in range(epochs):\n",
    "    for start, end in zip( range(0, len(trX), batchsize), range(batchsize, len(trX), batchsize)):\n",
    "        batch = trX[start:end]\n",
    "        cur_w = sess.run(update_w, feed_dict={ v0_state: batch, W: prv_w, vb: prv_vb, hb: prv_hb})\n",
    "        cur_vb = sess.run(update_vb, feed_dict={v0_state: batch, W: prv_w, vb: prv_vb, hb: prv_hb})\n",
    "        cur_hb = sess.run(update_hb, feed_dict={ v0_state: batch, W: prv_w, vb: prv_vb, hb: prv_hb})\n",
    "        prv_w = cur_w\n",
    "        prv_vb = cur_vb\n",
    "        prv_hb = cur_hb\n",
    "        if start % 10000 == 0:\n",
    "            errors.append(sess.run(err, feed_dict={v0_state: trX, W: cur_w, vb: cur_vb, hb: cur_hb}))\n",
    "            weights.append(cur_w)\n",
    "    print ('Epoch: %d' % epoch,'reconstruction error: %f' % errors[-1])\n",
    "plt.plot(errors)\n",
    "plt.xlabel(\"Batch Number\")\n",
    "plt.ylabel(\"Error\")\n",
    "plt.show()"
   ]
  },
  {
   "cell_type": "markdown",
   "metadata": {},
   "source": [
    "What is the final weight after training?"
   ]
  },
  {
   "cell_type": "code",
   "execution_count": 51,
   "metadata": {},
   "outputs": [
    {
     "name": "stdout",
     "output_type": "stream",
     "text": [
      "this is uw [[-2.2738311  -2.4214046  -2.2955194  ... -2.402649   -2.4163623\n",
      "  -2.3921835 ]\n",
      " [-0.28907546 -0.29742083 -0.3046483  ... -0.30577713 -0.31170446\n",
      "  -0.27395657]\n",
      " [-0.7935267  -0.7410692  -0.7971584  ... -0.7170085  -0.6811764\n",
      "  -0.74669594]\n",
      " ...\n",
      " [-1.3939453  -1.3407698  -1.3858999  ... -1.3902261  -1.4659222\n",
      "  -1.3984824 ]\n",
      " [-0.7751452  -0.82508695 -0.73228157 ... -0.8025607  -0.7858434\n",
      "  -0.6971826 ]\n",
      " [-0.62685394 -0.6658041  -0.6689668  ... -0.74212027 -0.7171433\n",
      "  -0.7050238 ]]\n",
      "this is  [[-2.293831   -0.28907546 -0.8035267  ... -1.3939453  -0.7751452\n",
      "  -0.63502043]\n",
      " [-2.4414124  -0.29742083 -0.75106245 ... -1.3407698  -0.82508695\n",
      "  -0.6758041 ]\n",
      " [-2.3055193  -0.3046483  -0.8071584  ... -1.3958938  -0.73228157\n",
      "  -0.6689668 ]\n",
      " ...\n",
      " [-2.4527225  -0.30577713 -0.73700845 ... -1.3956004  -0.8025607\n",
      "  -0.74212027]\n",
      " [-2.4263623  -0.31170446 -0.6811764  ... -1.4659222  -0.7858434\n",
      "  -0.7171433 ]\n",
      " [-2.4021914  -0.27395657 -0.7466961  ... -1.3984824  -0.6971826\n",
      "  -0.70503145]]\n"
     ]
    }
   ],
   "source": [
    "uw = weights[-1].T\n",
    "print ('this is uw',uw) # a weight matrix of shape (50,784)\n",
    "print('this is ',cur_w)"
   ]
  },
  {
   "cell_type": "markdown",
   "metadata": {},
   "source": [
    "<a id=\"ref5\"></a>\n",
    "<h3>Learned features</h3> "
   ]
  },
  {
   "cell_type": "markdown",
   "metadata": {},
   "source": [
    "We can take each hidden unit and visualize the connections between that hidden unit and each element in the input vector. In our case, we have 50 hidden units. Lets visualize those."
   ]
  },
  {
   "cell_type": "markdown",
   "metadata": {},
   "source": [
    "Let's plot the current weights:\n",
    "<b>tile_raster_images</b> helps in generating an easy to grasp image from a set of samples or weights. It transform the <b>uw</b> (with one flattened image per row of size 784), into an array (of size $25\\times20$) in which images are reshaped and laid out like tiles on a floor."
   ]
  },
  {
   "cell_type": "code",
   "execution_count": 54,
   "metadata": {},
   "outputs": [
    {
     "data": {
      "image/png": "[encoded data removed]",
      "text/plain": [
       "<Figure size 1296x1296 with 1 Axes>"
      ]
     },
     "metadata": {
      "needs_background": "light"
     },
     "output_type": "display_data"
    }
   ],
   "source": [
    "tile_raster_images(X=cur_w.T, img_shape=(28, 28), tile_shape=(5, 10), tile_spacing=(1, 1))\n",
    "import matplotlib.pyplot as plt\n",
    "from PIL import Image\n",
    "%matplotlib inline\n",
    "image = Image.fromarray(tile_raster_images(X=cur_w.T, img_shape=(28, 28) ,tile_shape=(5, 10), tile_spacing=(1, 1)))\n",
    "### Plot image\n",
    "plt.rcParams['figure.figsize'] = (18.0, 18.0)\n",
    "imgplot = plt.imshow(image)\n",
    "imgplot.set_cmap('gray')  "
   ]
  },
  {
   "cell_type": "markdown",
   "metadata": {},
   "source": [
    "Each tile in the above visualization corresponds to a vector of connections between a hidden unit and visible layer's units. "
   ]
  },
  {
   "cell_type": "markdown",
   "metadata": {},
   "source": [
    "Let's look at one of the learned weights corresponding to one of hidden units for example. In this particular square, the gray color represents weight = 0, and the whiter it is, the more positive the weights are (closer to 1). Conversely, the darker pixels are, the more negative the weights. The positive pixels will increase the probability of activation in hidden units (after multiplying by input/visible pixels), and negative pixels will decrease the probability of a unit hidden to be 1 (activated). So, why is this important?  So we can see that this specific square (hidden unit) can detect a feature (e.g. a \"/\" shape) and if it exists in the input."
   ]
  },
  {
   "cell_type": "code",
   "execution_count": 55,
   "metadata": {},
   "outputs": [
    {
     "data": {
      "image/png": "[encoded data removed]",
      "text/plain": [
       "<Figure size 288x288 with 1 Axes>"
      ]
     },
     "metadata": {
      "needs_background": "light"
     },
     "output_type": "display_data"
    }
   ],
   "source": [
    "from PIL import Image\n",
    "image = Image.fromarray(tile_raster_images(X =cur_w.T[10:11], img_shape=(28, 28),tile_shape=(1, 1), tile_spacing=(1, 1)))\n",
    "### Plot image\n",
    "plt.rcParams['figure.figsize'] = (4.0, 4.0)\n",
    "imgplot = plt.imshow(image)\n",
    "imgplot.set_cmap('gray')  "
   ]
  },
  {
   "cell_type": "markdown",
   "metadata": {},
   "source": [
    "Let's look at the reconstruction of an image now. Imagine that we have a destructed image of figure 3. Lets see if our trained network can fix it:\n",
    "\n",
    "First we plot the image:"
   ]
  },
  {
   "cell_type": "code",
   "execution_count": 56,
   "metadata": {},
   "outputs": [
    {
     "name": "stdout",
     "output_type": "stream",
     "text": [
      "--2019-12-02 23:11:17--  https://ibm.box.com/shared/static/vvm1b63uvuxq88vbw9znpwu5ol380mco.jpg\n",
      "Resolving ibm.box.com (ibm.box.com)... 107.152.27.197, 107.152.26.197\n",
      "Connecting to ibm.box.com (ibm.box.com)|107.152.27.197|:443... connected.\n",
      "HTTP request sent, awaiting response... 301 Moved Permanently\n",
      "Location: /public/static/vvm1b63uvuxq88vbw9znpwu5ol380mco.jpg [following]\n",
      "--2019-12-02 23:11:17--  https://ibm.box.com/public/static/vvm1b63uvuxq88vbw9znpwu5ol380mco.jpg\n",
      "Reusing existing connection to ibm.box.com:443.\n",
      "HTTP request sent, awaiting response... 301 Moved Permanently\n",
      "Location: https://ibm.ent.box.com/public/static/vvm1b63uvuxq88vbw9znpwu5ol380mco.jpg [following]\n",
      "--2019-12-02 23:11:17--  https://ibm.ent.box.com/public/static/vvm1b63uvuxq88vbw9znpwu5ol380mco.jpg\n",
      "Resolving ibm.ent.box.com (ibm.ent.box.com)... 107.152.27.211, 107.152.26.211\n",
      "Connecting to ibm.ent.box.com (ibm.ent.box.com)|107.152.27.211|:443... connected.\n",
      "HTTP request sent, awaiting response... 302 Found\n",
      "Location: https://public.boxcloud.com/d/1/b1!zQjv3HqogQ5AipOPLY7dixBHm9ir_1qk8vfVuYp8EHfyMtCOp_lb7cKv_o9gP_3VXwR00OFGgWxsFYQYES4DC6MffvdGTJ3Uqzvf2E4ZH3OjVLdU3yIBHBGLpCoucI_AjYcwjxwMFkFk4awUlCe2gTUJXjPTmSCQFUMkYwngtsSuTILiP2AMngQ3Ea_9H_AOxvMddLLfnCenulBeSUB68_dJZ0pZUsXKHWBRvzvqW4OTq9F6PtQB-mXdmB52SKHDN8MoxCasfk500dSM00wlQPUmvYUnqXCtOenQ-WK9nzyUa2RvPVKv4SH7wcxHXl1BzLxb3emfvA541C0w4DLMtCn1zDlpkfR8AHXg3JGnYB4nkp8N7lAgoX2bbiskcFGgHY_Iukhb79nnoQbZY3G2ksq5rrJycs72nyIIr_gMnBQK2nohkcwRQrMgWtWFskIkIWwz4wb_La2S0h9Gf8PoQAi45q_Rd0SYKbo35dCW4e28yxo_trcPNPgqoSovxOXqeD1rWRuI2crYpbDSSOBCZWtJU-lgBMvfzk9JW4BffokrDplOIZjWt6uvEj2q_6i5lN_DEhawRoRVmNDpb21N0SIH38OIhQUQIBuf2umQ-ntBUxXF3wuhdJSWkGASNX9L5Xn5W3IsVzO3t8BCp_YveeZx7qoX7VT4hXnfr1XVzxSbEQcEmLVvhkRhSdBn4rRw8OaC6z-snV5bTZmuMZKaOGqktapDKcDQgxNS0LIpemtPtXpsKt3VHZls4gH-IYGYIVZrP1zDFd84f3LN6aFpr-0j9b1NSgdC_XG7Bz4LxcPHJSDTWd1XvmSvsKOoydOfmdzUsveKrfQFwD2pSAhlBkR3SA9K8VJitHMNoyv4158_lUH9RpyEEIVgoE2aeiSnVG-rpHN6L26CoSwIMjTQx1wFUkBWAPxFgaFDKEuYx4A5qIolGmeEkjBTWjqCw9SVRbCdVivTq3Cwqk4ABfoyerb9R9BJFbEfsSb93BsU0YIFdTN75RnfrGwFhsDJcqHjDWWvcXU98WgL3sTCcNj707wjYY7D4kJuKa8ZX-CaIgWABCFF1JqK5SldXypw595CK1FkWSsTYz6ZxHxA94T7KiAuEVmpTcgt6bUDJVmHYjcR643pwPqg5mbRaycv0NISiAbdZLa-qQS4MTn_aoozx6xpU7xUI84xDCzjLCBGTLOexljzfD5a9zXCCL4tC6KsISu0jOSJfiyiE0AfV1hdp8jlygrKe69oY15q1tJGcML__yiwKxqOWfeKnRyLjvcBGsxO8nWD21SfG37aR6g5QbkdMuHrxTwVDyeJYM55j46IQ3XhDoJu7jJcbQ5IEIgS3VojuxadK2I5IXIJWLMpzsElN-Xy4ATlwSoZVgMBLFI./download [following]\n",
      "--2019-12-02 23:11:18--  https://public.boxcloud.com/d/1/b1!zQjv3HqogQ5AipOPLY7dixBHm9ir_1qk8vfVuYp8EHfyMtCOp_lb7cKv_o9gP_3VXwR00OFGgWxsFYQYES4DC6MffvdGTJ3Uqzvf2E4ZH3OjVLdU3yIBHBGLpCoucI_AjYcwjxwMFkFk4awUlCe2gTUJXjPTmSCQFUMkYwngtsSuTILiP2AMngQ3Ea_9H_AOxvMddLLfnCenulBeSUB68_dJZ0pZUsXKHWBRvzvqW4OTq9F6PtQB-mXdmB52SKHDN8MoxCasfk500dSM00wlQPUmvYUnqXCtOenQ-WK9nzyUa2RvPVKv4SH7wcxHXl1BzLxb3emfvA541C0w4DLMtCn1zDlpkfR8AHXg3JGnYB4nkp8N7lAgoX2bbiskcFGgHY_Iukhb79nnoQbZY3G2ksq5rrJycs72nyIIr_gMnBQK2nohkcwRQrMgWtWFskIkIWwz4wb_La2S0h9Gf8PoQAi45q_Rd0SYKbo35dCW4e28yxo_trcPNPgqoSovxOXqeD1rWRuI2crYpbDSSOBCZWtJU-lgBMvfzk9JW4BffokrDplOIZjWt6uvEj2q_6i5lN_DEhawRoRVmNDpb21N0SIH38OIhQUQIBuf2umQ-ntBUxXF3wuhdJSWkGASNX9L5Xn5W3IsVzO3t8BCp_YveeZx7qoX7VT4hXnfr1XVzxSbEQcEmLVvhkRhSdBn4rRw8OaC6z-snV5bTZmuMZKaOGqktapDKcDQgxNS0LIpemtPtXpsKt3VHZls4gH-IYGYIVZrP1zDFd84f3LN6aFpr-0j9b1NSgdC_XG7Bz4LxcPHJSDTWd1XvmSvsKOoydOfmdzUsveKrfQFwD2pSAhlBkR3SA9K8VJitHMNoyv4158_lUH9RpyEEIVgoE2aeiSnVG-rpHN6L26CoSwIMjTQx1wFUkBWAPxFgaFDKEuYx4A5qIolGmeEkjBTWjqCw9SVRbCdVivTq3Cwqk4ABfoyerb9R9BJFbEfsSb93BsU0YIFdTN75RnfrGwFhsDJcqHjDWWvcXU98WgL3sTCcNj707wjYY7D4kJuKa8ZX-CaIgWABCFF1JqK5SldXypw595CK1FkWSsTYz6ZxHxA94T7KiAuEVmpTcgt6bUDJVmHYjcR643pwPqg5mbRaycv0NISiAbdZLa-qQS4MTn_aoozx6xpU7xUI84xDCzjLCBGTLOexljzfD5a9zXCCL4tC6KsISu0jOSJfiyiE0AfV1hdp8jlygrKe69oY15q1tJGcML__yiwKxqOWfeKnRyLjvcBGsxO8nWD21SfG37aR6g5QbkdMuHrxTwVDyeJYM55j46IQ3XhDoJu7jJcbQ5IEIgS3VojuxadK2I5IXIJWLMpzsElN-Xy4ATlwSoZVgMBLFI./download\n",
      "Resolving public.boxcloud.com (public.boxcloud.com)... 107.152.27.200\n",
      "Connecting to public.boxcloud.com (public.boxcloud.com)|107.152.27.200|:443... connected.\n",
      "HTTP request sent, awaiting response... 200 OK\n",
      "Length: 24383 (24K) [image/jpeg]\n",
      "Saving to: ‘destructed3.jpg’\n",
      "\n",
      "destructed3.jpg     100%[===================>]  23.81K  --.-KB/s    in 0.02s   \n",
      "\n",
      "2019-12-02 23:11:18 (1.39 MB/s) - ‘destructed3.jpg’ saved [24383/24383]\n",
      "\n"
     ]
    },
    {
     "data": {
      "image/png": "[encoded data removed]",
      "text/plain": [
       "<PIL.JpegImagePlugin.JpegImageFile image mode=RGB size=181x181 at 0x7F6A21D564A8>"
      ]
     },
     "execution_count": 56,
     "metadata": {},
     "output_type": "execute_result"
    }
   ],
   "source": [
    "!wget -O destructed3.jpg  https://ibm.box.com/shared/static/vvm1b63uvuxq88vbw9znpwu5ol380mco.jpg\n",
    "img = Image.open('destructed3.jpg')\n",
    "img"
   ]
  },
  {
   "cell_type": "markdown",
   "metadata": {},
   "source": [
    "Now let's pass this image through the net:"
   ]
  },
  {
   "cell_type": "code",
   "execution_count": null,
   "metadata": {},
   "outputs": [],
   "source": [
    "# convert the image to a 1d numpy array\n",
    "sample_case = np.array(img.convert('I').resize((28,28))).ravel().reshape((1, -1))/255.0"
   ]
  },
  {
   "cell_type": "markdown",
   "metadata": {},
   "source": [
    "Feed the sample case into the network and reconstruct the output:"
   ]
  },
  {
   "cell_type": "code",
   "execution_count": null,
   "metadata": {},
   "outputs": [],
   "source": [
    "hh0_p = tf.nn.sigmoid(tf.matmul(v0_state, W) + hb)\n",
    "#hh0_s = tf.nn.relu(tf.sign(hh0_p - tf.random_uniform(tf.shape(hh0_p)))) \n",
    "hh0_s = tf.round(hh0_p)\n",
    "hh0_p_val,hh0_s_val  = sess.run((hh0_p, hh0_s), feed_dict={ v0_state: sample_case, W: prv_w, hb: prv_hb})\n",
    "print(\"Probability nodes in hidden layer:\" ,hh0_p_val)\n",
    "print(\"activated nodes in hidden layer:\" ,hh0_s_val)\n",
    "\n",
    "# reconstruct\n",
    "vv1_p = tf.nn.sigmoid(tf.matmul(hh0_s_val, tf.transpose(W)) + vb)\n",
    "rec_prob = sess.run(vv1_p, feed_dict={ hh0_s: hh0_s_val, W: prv_w, vb: prv_vb})"
   ]
  },
  {
   "cell_type": "markdown",
   "metadata": {},
   "source": [
    "Here we plot the reconstructed image:"
   ]
  },
  {
   "cell_type": "code",
   "execution_count": null,
   "metadata": {},
   "outputs": [],
   "source": [
    "img = Image.fromarray(tile_raster_images(X=rec_prob, img_shape=(28, 28),tile_shape=(1, 1), tile_spacing=(1, 1)))\n",
    "plt.rcParams['figure.figsize'] = (4.0, 4.0)\n",
    "imgplot = plt.imshow(img)\n",
    "imgplot.set_cmap('gray') "
   ]
  },
  {
   "cell_type": "markdown",
   "metadata": {},
   "source": [
    "<hr>\n",
    "\n",
    "## Want to learn more?\n",
    "\n",
    "Running deep learning programs usually needs a high performance platform. __PowerAI__ speeds up deep learning and AI. Built on IBM’s Power Systems, __PowerAI__ is a scalable software platform that accelerates deep learning and AI with blazing performance for individual users or enterprises. The __PowerAI__ platform supports popular machine learning libraries and dependencies including TensorFlow, Caffe, Torch, and Theano. You can use [PowerAI on IMB Cloud](https://cocl.us/ML0120EN_PAI).\n",
    "\n",
    "Also, you can use __Watson Studio__ to run these notebooks faster with bigger datasets.__Watson Studio__ is IBM’s leading cloud solution for data scientists, built by data scientists. With Jupyter notebooks, RStudio, Apache Spark and popular libraries pre-packaged in the cloud, __Watson Studio__ enables data scientists to collaborate on their projects without having to install anything. Join the fast-growing community of __Watson Studio__ users today with a free account at [Watson Studio](https://cocl.us/ML0120EN_DSX).This is the end of this lesson. Thank you for reading this notebook, and good luck on your studies."
   ]
  },
  {
   "cell_type": "markdown",
   "metadata": {},
   "source": [
    "### Thanks for completing this lesson!\n",
    "\n",
    "Notebook created by: <a href = \"https://ca.linkedin.com/in/saeedaghabozorgi\">Saeed Aghabozorgi</a>"
   ]
  },
  {
   "cell_type": "markdown",
   "metadata": {},
   "source": [
    "### References:\n",
    "https://en.wikipedia.org/wiki/Restricted_Boltzmann_machine  \n",
    "http://deeplearning.net/tutorial/rbm.html  \n",
    "http://www.cs.utoronto.ca/~hinton/absps/netflixICML.pdf<br>\n",
    "http://imonad.com/rbm/restricted-boltzmann-machine/  \n"
   ]
  },
  {
   "cell_type": "markdown",
   "metadata": {},
   "source": [
    "<hr>\n",
    "\n",
    "Copyright &copy; 2018 [Cognitive Class](https://cocl.us/DX0108EN_CC). This notebook and its source code are released under the terms of the [MIT License](https://bigdatauniversity.com/mit-license/)."
   ]
  }
 ],
 "metadata": {
  "kernelspec": {
   "display_name": "Python",
   "language": "python",
   "name": "conda-env-python-py"
  },
  "language_info": {
   "codemirror_mode": {
    "name": "ipython",
    "version": 3
   },
   "file_extension": ".py",
   "mimetype": "text/x-python",
   "name": "python",
   "nbconvert_exporter": "python",
   "pygments_lexer": "ipython3",
   "version": "3.6.7"
  },
  "widgets": {
   "state": {},
   "version": "1.1.2"
  }
 },
 "nbformat": 4,
 "nbformat_minor": 4
}
